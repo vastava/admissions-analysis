{
 "cells": [
  {
   "cell_type": "code",
   "execution_count": 2,
   "metadata": {},
   "outputs": [],
   "source": [
    "import numpy as np\n",
    "import pandas as pd\n",
    "import math\n",
    "import matplotlib.pyplot as plt\n",
    "\n",
    "names = ['', 'city', 'county','status', 'school','ethnicity','number' ]\n",
    "df = pd.read_csv('FR_ENR_data.csv',names=names,header=0,usecols=[1,2,3,4,5,6])\n",
    "berk = pd.read_csv('berkeleyenrollment.csv',names=names,header=0,usecols=[1,2,3,4,5,6])"
   ]
  },
  {
   "cell_type": "code",
   "execution_count": 6,
   "metadata": {},
   "outputs": [
    {
     "name": "stdout",
     "output_type": "stream",
     "text": [
      "                  city          county status  \\\n",
      "3              Fontana  San Bernardino    enr   \n",
      "12         Los Angeles     Los Angeles    enr   \n",
      "24       San Francisco   San Francisco    enr   \n",
      "36            San Jose     Santa Clara    enr   \n",
      "39        Apple Valley  San Bernardino    enr   \n",
      "45         Los Angeles     Los Angeles    enr   \n",
      "48         Los Angeles     Los Angeles    enr   \n",
      "57              Carson     Los Angeles    enr   \n",
      "63              Carson     Los Angeles    enr   \n",
      "69        San Fernando     Los Angeles    enr   \n",
      "78       Santa Clarita     Los Angeles    enr   \n",
      "81              Eureka        Humboldt    enr   \n",
      "87         Los Angeles     Los Angeles    enr   \n",
      "93       San Francisco   San Francisco    enr   \n",
      "105          Lafayette    Contra Costa    enr   \n",
      "108           Adelanto  San Bernardino    enr   \n",
      "120          Camarillo         Ventura    enr   \n",
      "132        Santa Clara     Santa Clara    enr   \n",
      "144       Agoura Hills     Los Angeles    enr   \n",
      "150        Los Angeles     Los Angeles    enr   \n",
      "159            Alameda         Alameda    enr   \n",
      "174            Alameda         Alameda    enr   \n",
      "180            Alameda         Alameda    enr   \n",
      "195             Albany         Alameda    enr   \n",
      "201           Valencia     Los Angeles    enr   \n",
      "216        Los Angeles     Los Angeles    enr   \n",
      "225           Alhambra     Los Angeles    enr   \n",
      "234           Martinez    Contra Costa    enr   \n",
      "240            Salinas        Monterey    enr   \n",
      "255        Aliso Viejo          Orange    enr   \n",
      "...                ...             ...    ...   \n",
      "9174          Stockton     San Joaquin    enr   \n",
      "9189         San Diego       San Diego    enr   \n",
      "9201           Rocklin          Placer    enr   \n",
      "9207          Whittier     Los Angeles    enr   \n",
      "9219         Vacaville          Solano    enr   \n",
      "9225      Grass Valley          Nevada    enr   \n",
      "9240    Woodland Hills     Los Angeles    enr   \n",
      "9246          Palmdale     Los Angeles    enr   \n",
      "9258           Newhall     Los Angeles    enr   \n",
      "9264          Williams          Colusa    enr   \n",
      "9267           Willits       Mendocino    enr   \n",
      "9279          San Jose     Santa Clara    enr   \n",
      "9288            Rialto  San Bernardino    enr   \n",
      "9297           Windsor          Sonoma    enr   \n",
      "9300           Winters            Yolo    enr   \n",
      "9306            Delano            Kern    enr   \n",
      "9321            Irvine          Orange    enr   \n",
      "9330         Roseville          Placer    enr   \n",
      "9333          Woodlake          Tulare    enr   \n",
      "9342          Woodland            Yolo    enr   \n",
      "9357        Long Beach     Los Angeles    enr   \n",
      "9363       Los Angeles     Los Angeles    enr   \n",
      "9372          Woodside       San Mateo    enr   \n",
      "9378  City Of Industry     Los Angeles    enr   \n",
      "9387          San Jose     Santa Clara    enr   \n",
      "9393           Concord    Contra Costa    enr   \n",
      "9402       Yorba Linda          Orange    enr   \n",
      "9408          Oakhurst          Madera    enr   \n",
      "9417         Yuba City          Sutter    enr   \n",
      "9429           Yucaipa  San Bernardino    enr   \n",
      "\n",
      "                                 school ethnicity  number  \n",
      "3                A B MILLER HIGH SCHOOL       All     NaN  \n",
      "12          ABRAHAM LINCOLN HIGH SCHOOL       All     NaN  \n",
      "24          ABRAHAM LINCOLN HIGH SCHOOL       All     6.0  \n",
      "36          ABRAHAM LINCOLN HIGH SCHOOL       All     4.0  \n",
      "39         ACAD FOR ACADEMIC EXCELLENCE       All     NaN  \n",
      "45       ACADEMIA AVANCE CHARTER SCHOOL       All     NaN  \n",
      "48        ACADEMIC LEADERSHIP COMMUNITY       All     NaN  \n",
      "57       ACADEMIES EDUCATION/EMPOWERMNT       All     NaN  \n",
      "63    ACADEMY OF MEDICAL ARTS AT CARSON       All     NaN  \n",
      "69       ACADEMY OF SCIENTIFIC EXPLORAT       All     NaN  \n",
      "78               ACADEMY OF THE CANYONS       All     4.0  \n",
      "81              ACADEMY OF THE REDWOODS       All     NaN  \n",
      "87        ACADEMY SCIENCE & ENGINEERING       All     NaN  \n",
      "93           ACADEMY-SAN FRAN @ MCATEER       All     NaN  \n",
      "105                ACALANES HIGH SCHOOL       All    10.0  \n",
      "108                ADELANTO HIGH SCHOOL       All     NaN  \n",
      "120        ADOLFO CAMARILLO HIGH SCHOOL       All     5.0  \n",
      "132         ADRIAN C WILCOX HIGH SCHOOL       All    10.0  \n",
      "144                  AGOURA HIGH SCHOOL       All    11.0  \n",
      "150      ALAIN LEROY LOCKE COLLEGE PREP       All     NaN  \n",
      "159      ALAMEDA COMMUNITY LEARNING CTR       All     5.0  \n",
      "174                 ALAMEDA HIGH SCHOOL       All    13.0  \n",
      "180      ALAMEDA SCIENCE & TECHLGY INST       All     4.0  \n",
      "195                  ALBANY HIGH SCHOOL       All    14.0  \n",
      "201      ALBERT EINSTEIN LETTER ART SCI       All     NaN  \n",
      "216      ALEXANDER HAMILTON HIGH SCHOOL       All     8.0  \n",
      "225                ALHAMBRA HIGH SCHOOL       All     4.0  \n",
      "234                ALHAMBRA HIGH SCHOOL       All     3.0  \n",
      "240                  ALISAL HIGH SCHOOL       All     NaN  \n",
      "255            ALISO NIGUEL HIGH SCHOOL       All    16.0  \n",
      "...                                 ...       ...     ...  \n",
      "9174           WESTON RANCH HIGH SCHOOL       All     NaN  \n",
      "9189               WESTVIEW HIGH SCHOOL       All    28.0  \n",
      "9201                WHITNEY HIGH SCHOOL       All     NaN  \n",
      "9207               WHITTIER HIGH SCHOOL       All     3.0  \n",
      "9219            WILL C WOOD HIGH SCHOOL       All     3.0  \n",
      "9225     WILLIAM AND MARIAN GHIDOTTI HS       All     3.0  \n",
      "9240             WILLIAM HOWARD TAFT HS       All     9.0  \n",
      "9246     WILLIAM J PETE KNIGHT HIGH SCH       All     NaN  \n",
      "9258         WILLIAM S HART HIGH SCHOOL       All     4.0  \n",
      "9264               WILLIAMS HIGH SCHOOL       All     NaN  \n",
      "9267                WILLITS HIGH SCHOOL       All     NaN  \n",
      "9279            WILLOW GLEN HIGH SCHOOL       All     NaN  \n",
      "9288             WILMER AMINA CARTER HS       All     NaN  \n",
      "9297                WINDSOR HIGH SCHOOL       All     3.0  \n",
      "9300                WINTERS HIGH SCHOOL       All     NaN  \n",
      "9306     WONDERFUL COLLEGE PREP ACADEMY       All     3.0  \n",
      "9321             WOODBRIDGE HIGH SCHOOL       All    13.0  \n",
      "9330              WOODCREEK HIGH SCHOOL       All     NaN  \n",
      "9333               WOODLAKE HIGH SCHOOL       All     NaN  \n",
      "9342               WOODLAND HIGH SCHOOL       All     NaN  \n",
      "9357         WOODROW WILSON HIGH SCHOOL       All     6.0  \n",
      "9363         WOODROW WILSON HIGH SCHOOL       All     4.0  \n",
      "9372               WOODSIDE HIGH SCHOOL       All     6.0  \n",
      "9378                WORKMAN HIGH SCHOOL       All     NaN  \n",
      "9387            YERBA BUENA HIGH SCHOOL       All    13.0  \n",
      "9393         YGNACIO VALLEY HIGH SCHOOL       All     NaN  \n",
      "9402            YORBA LINDA HIGH SCHOOL       All     4.0  \n",
      "9408               YOSEMITE HIGH SCHOOL       All     NaN  \n",
      "9417              YUBA CITY HIGH SCHOOL       All     NaN  \n",
      "9429         YUCAIPA SENIOR HIGH SCHOOL       All     3.0  \n",
      "\n",
      "[1136 rows x 6 columns]\n"
     ]
    }
   ],
   "source": [
    "df = df[df.ethnicity == 'All']\n",
    "applied = df[df.status == 'app']\n",
    "admitted = df[df.status == 'adm']\n",
    "enrolled = df[df.status == 'enr']\n",
    "\n",
    "berk = berk[berk.ethnicity == 'All']\n",
    "berkapplied = berk[berk.status == 'app']\n",
    "berkadmitted = berk[berk.status == 'adm']\n",
    "berkenrolled = berk[berk.status == 'enr']\n",
    "print(berkenrolled)"
   ]
  },
  {
   "cell_type": "code",
   "execution_count": 7,
   "metadata": {},
   "outputs": [
    {
     "name": "stderr",
     "output_type": "stream",
     "text": [
      "/Users/academic/anaconda3/lib/python3.6/site-packages/pandas/io/parsers.py:678: UserWarning: Duplicate names specified. This will raise an error in the future.\n",
      "  return _read(filepath_or_buffer, kwds)\n"
     ]
    }
   ],
   "source": [
    "newnames = ['', '', '','', 'county','','school', '','type','','','','','','','','','','','eligible1', '','eligible2','','','eligible3','','eligible4','']\n",
    "meals = pd.read_csv('reducedpricemeal.csv',names=newnames,header=0,usecols=[4,6,8,19,21,24,26])"
   ]
  },
  {
   "cell_type": "code",
   "execution_count": 8,
   "metadata": {},
   "outputs": [
    {
     "data": {
      "text/plain": [
       "High Schools (Public)    1311\n",
       "Name: type, dtype: int64"
      ]
     },
     "execution_count": 8,
     "metadata": {},
     "output_type": "execute_result"
    }
   ],
   "source": [
    "meals = meals[meals.type == 'High Schools (Public)']\n",
    "meals.type.value_counts()"
   ]
  },
  {
   "cell_type": "code",
   "execution_count": 9,
   "metadata": {},
   "outputs": [
    {
     "name": "stdout",
     "output_type": "stream",
     "text": [
      "county\n",
      "Alameda             60\n",
      "Amador               2\n",
      "Butte                9\n",
      "Calaveras            2\n",
      "Colusa               3\n",
      "Contra Costa        33\n",
      "Del Norte            1\n",
      "El Dorado            6\n",
      "Fresno              34\n",
      "Glenn                3\n",
      "Humboldt             8\n",
      "Imperial             7\n",
      "Inyo                 1\n",
      "Kern                30\n",
      "Kings                7\n",
      "Lake                 5\n",
      "Lassen               1\n",
      "Los Angeles        345\n",
      "Madera               7\n",
      "Marin                9\n",
      "Mariposa             1\n",
      "Mendocino            6\n",
      "Merced              13\n",
      "Modoc                1\n",
      "Mono                 1\n",
      "Monterey            15\n",
      "Napa                 6\n",
      "Nevada               3\n",
      "Orange              74\n",
      "Placer              14\n",
      "Riverside           64\n",
      "Sacramento          50\n",
      "San Benito           2\n",
      "San Bernardino      63\n",
      "San Diego           99\n",
      "San Francisco       18\n",
      "San Joaquin         31\n",
      "San Luis Obispo     10\n",
      "San Mateo           23\n",
      "Santa Barbara       12\n",
      "Santa Clara         50\n",
      "Santa Cruz          10\n",
      "Shasta               6\n",
      "Sierra               1\n",
      "Siskiyou             4\n",
      "Solano              14\n",
      "Sonoma              18\n",
      "Stanislaus          19\n",
      "Sutter               4\n",
      "Tehama               2\n",
      "Trinity              1\n",
      "Tulare              20\n",
      "Tuolumne             2\n",
      "Ventura             23\n",
      "Yolo                 8\n",
      "Yuba                 4\n",
      "dtype: int64\n"
     ]
    }
   ],
   "source": [
    "counties = enrolled.groupby('county')\n",
    "counties2 = meals.groupby('county')\n",
    "print(counties.size())"
   ]
  },
  {
   "cell_type": "code",
   "execution_count": 27,
   "metadata": {},
   "outputs": [
    {
     "name": "stdout",
     "output_type": "stream",
     "text": [
      "{'Alameda': {'ALAMEDA HIGH SCHOOL': '18.9%', 'ALBANY HIGH SCHOOL': '18.2%', 'ALTERNATIVES IN ACTION HS': '97.1%', 'AMADOR VALLEY HIGH SCHOOL': '5.1%', 'AMERICAN HIGH SCHOOL': '16.7%', 'AMERICAN INDIAN PUBLIC SCHOOL': '69.2%', 'ARISE HIGH SCHOOL': '89.4%', 'ARROYO HIGH SCHOOL': '50.7%', 'BERKELEY HIGH SCHOOL': '27.9%', 'CASTLEMONT HIGH SCHOOL': '82.9%', 'CASTRO VALLEY HIGH SCHOOL': '22.0%', 'DUBLIN HIGH SCHOOL': '8.4%', 'EMERY SECONDARY SCHOOL': '68.9%', 'FOOTHILL HIGH SCHOOL': '5.6%', 'FREMONT HIGH SCHOOL': '85.6%', 'GRANADA HIGH SCHOOL': '16.0%', 'HAYWARD HIGH SCHOOL': '65.7%', 'IRVINGTON HIGH SCHOOL': '12.0%', 'JAMES LOGAN HIGH SCHOOL': '45.3%', 'KIPP KING COLLEGIATE HIGH SCH': '62.8%', 'LEADERSHIP PUBLIC SCH HAYWARD': '59.9%', 'LIGHTHOUSE COMMUNITY CHAR HS': '79.2%', 'LIVERMORE HIGH SCHOOL': '20.5%', 'LIVERMORE VALLEY CHARTER PREP': '15.6%', 'LPS OAKLAND R&D CAMPUS': '90.9%', 'MCCLYMONDS HIGH SCHOOL': '88.7%', 'METWEST HIGH SCHOOL': '76.6%', 'MISSION SAN JOSE HIGH SCHOOL': '3.6%', 'NEWARK MEMORIAL HIGH SCHOOL': '44.6%', 'OAKLAND CHARTER HIGH SCHOOL': '80.0%', 'OAKLAND HIGH SCHOOL': '87.5%', 'OAKLAND TECHNICAL HIGH SCHOOL': '44.8%', 'OAKLAND UNITY HIGH SCHOOL': '84.3%', 'PIEDMONT HIGH SCHOOL': '1.2%', 'REALM CHARTER HIGH SCHOOL': '66.0%', 'SAN LEANDRO HIGH SCHOOL': '57.7%', 'SAN LORENZO HIGH SCHOOL': '76.4%', 'SILVER OAK HIGH SCHOOL': '50.0%', 'SKYLINE HIGH SCHOOL': '76.6%', 'TENNYSON HIGH SCHOOL': '76.3%', 'WASHINGTON HIGH SCHOOL': '22.2%'}, 'Amador': {'AMADOR HIGH SCHOOL': '34.3%', 'ARGONAUT HIGH SCHOOL': '34.5%'}, 'Butte': {'DURHAM HIGH SCHOOL': '32.0%', 'GRIDLEY HIGH SCHOOL': '20.9%', 'INSPIRE SCHOOL OF ARTS SCIENCE': '27.0%', 'LAS PLUMAS HIGH SCHOOL': '72.8%', 'OROVILLE HIGH SCHOOL': '78.1%', 'PLEASANT VALLEY SR HIGH SCHOOL': '32.3%'}, 'Calaveras': {'BRET HARTE UNION HIGH SCHOOL': '37.4%', 'CALAVERAS HIGH SCHOOL': '46.2%'}, 'Colusa': {'COLUSA HIGH SCHOOL': '54.0%', 'PIERCE HIGH SCHOOL': '59.9%'}, 'Contra Costa': {'ACALANES HIGH SCHOOL': '2.0%', 'ANTIOCH HIGH SCHOOL': '70.4%', 'CALIFORNIA HIGH SCHOOL': '5.5%', 'CAMPOLINDO HIGH SCHOOL': '1.5%', 'CLAYTON VALLEY HIGH SCHOOL': '17.9%', 'COLLEGE PARK HIGH SCHOOL': '20.4%', 'CONCORD HIGH SCHOOL': '47.1%', 'DE ANZA HIGH SCHOOL': '67.5%', 'DEER VALLEY HIGH SCHOOL': '54.9%', 'DOUGHERTY VALLEY HIGH SCHOOL': '5.4%', 'EL CERRITO HIGH SCHOOL': '47.1%', 'FREEDOM HIGH SCHOOL': '35.7%', 'HERCULES HIGH SCHOOL': '40.6%', 'HERITAGE HIGH SCHOOL': '16.7%', 'JOHN SWETT HIGH SCHOOL': '55.0%', 'LAS LOMAS HIGH SCHOOL': '7.8%', 'LEADERSHIP PUBLIC SCH RICHMOND': '83.2%', 'LIBERTY HIGH SCHOOL': '30.9%', 'MIDDLE COLLEGE HIGH SCHOOL': '50.2%', 'MIRAMONTE HIGH SCHOOL': '1.5%', 'MONTE VISTA HIGH SCHOOL': '2.4%', 'NORTHGATE HIGH SCHOOL': '8.3%', 'PINOLE VALLEY HIGH SCHOOL': '59.0%', 'RICHMOND HIGH SCHOOL': '93.0%', 'SAN RAMON VALLEY HIGH SCHOOL': '2.0%', 'YGNACIO VALLEY HIGH SCHOOL': '72.9%'}, 'Del Norte': {'DEL NORTE COUNTY HIGH SCHOOL': '52.8%'}, 'El Dorado': {'EL DORADO HIGH SCHOOL': '33.5%', 'GOLDEN SIERRA HIGH SCHOOL': '44.3%', 'OAK RIDGE HIGH SCHOOL': '4.9%', 'PONDEROSA HIGH SCHOOL': '16.1%', 'SOUTH TAHOE HIGH SCHOOL': '54.2%', 'UNION MINE HIGH SCHOOL': '29.2%'}, 'Fresno': {'BULLARD HIGH SCHOOL': '58.6%', 'CARUTHERS HIGH SCHOOL': '87.2%', 'CENTRAL HIGH SCHOOL EAST/WEST': '57.1%', 'CLOVIS EAST HIGH SCHOOL': '49.7%', 'CLOVIS HIGH SCHOOL': '42.9%', 'CLOVIS NORTH HIGH SCHOOL': '18.4%', 'CLOVIS WEST HIGH SCHOOL': '39.4%', 'COALINGA HIGH SCHOOL': '72.1%', 'EDISON HIGH SCHOOL': '77.3%', 'FIREBAUGH HIGH SCHOOL': '83.3%', 'FOWLER HIGH SCHOOL': '72.7%', 'FRESNO HIGH SCHOOL': '89.9%', 'HERBERT HOOVER HIGH SCHOOL': '83.8%', 'KERMAN HIGH SCHOOL': '77.5%', 'KINGSBURG HIGH SCHOOL': '37.3%', 'MCLANE HIGH SCHOOL': '95.8%', 'MENDOTA HIGH SCHOOL': '100.0%', 'ORANGE COVE HIGH SCHOOL': '96.1%', 'PARLIER HIGH SCHOOL': '93.7%', 'REEDLEY HIGH SCHOOL': '77.8%', 'REEDLEY MIDDLE COLLEGE HS': '82.2%', 'RIVERDALE HIGH SCHOOL': '80.9%', 'SANGER HIGH SCHOOL': '75.9%', 'SELMA HIGH SCHOOL': '71.9%', 'SIERRA HIGH SCHOOL': '37.0%', 'SUNNYSIDE HIGH SCHOOL': '90.4%', 'TRANQUILLITY HIGH SCHOOL': '91.3%', 'UNIVERSITY HIGH SCHOOL': '9.9%'}, 'Glenn': {'ORLAND HIGH SCHOOL': '66.3%', 'WILLOWS HIGH SCHOOL': '50.2%'}, 'Humboldt': {'ARCATA HIGH SCHOOL': '29.2%', 'EUREKA SENIOR HIGH SCHOOL': '47.9%', 'FORTUNA UNION HIGH SCHOOL': '48.6%', 'HOOPA VALLEY HIGH SCHOOL': '99.2%', 'MCKINLEYVILLE HIGH SCHOOL': '33.3%', 'SOUTH FORK HIGH SCHOOL': '41.6%'}, 'Imperial': {'CALEXICO HIGH SCHOOL': '83.5%', 'CALIPATRIA HIGH SCHOOL': '79.3%', 'CENTRAL UNION HIGH SCHOOL': '72.9%', 'HOLTVILLE HIGH SCHOOL': '64.8%', 'IMPERIAL HIGH SCHOOL': '38.7%', 'SOUTHWEST HIGH SCHOOL': '69.1%'}, 'Inyo': {'BISHOP UNION HIGH SCHOOL': '42.3%'}, 'Kern': {'ARVIN HIGH SCHOOL': '87.5%', 'BAKERSFIELD HIGH SCHOOL': '67.8%', 'CALIFORNIA CITY HIGH SCHOOL': '72.0%', 'CENTENNIAL HIGH SCHOOL': '24.5%', 'DELANO HIGH SCHOOL': '90.2%', 'EAST BAKERSFIELD HIGH SCHOOL': '81.5%', 'FOOTHILL HIGH SCHOOL': '82.8%', 'FRONTIER HIGH SCHOOL': '23.3%', 'GOLDEN VALLEY HIGH SCHOOL': '81.8%', 'HIGHLAND HIGH SCHOOL': '63.9%', 'INDEPENDENCE HIGH SCHOOL': '54.8%', 'KERN VALLEY HIGH SCHOOL': '64.0%', 'LIBERTY HIGH SCHOOL': '20.9%', 'MCFARLAND HIGH SCHOOL': '83.9%', 'MIRA MONTE HIGH SCHOOL': '90.5%', 'NORTH HIGH SCHOOL': '73.8%', 'RIDGEVIEW HIGH SCHOOL': '70.1%', 'ROSAMOND HIGH SCHOOL': '66.5%', 'SHAFTER HIGH SCHOOL': '80.7%', 'SOUTH HIGH SCHOOL': '92.0%', 'STOCKDALE HIGH SCHOOL': '32.3%', 'TAFT UNION HIGH SCHOOL': '58.3%', 'TEHACHAPI HIGH SCHOOL': '30.8%', 'WEST HIGH SCHOOL': '81.5%'}, 'Kings': {'AVENAL HIGH SCHOOL': '85.9%', 'CORCORAN HIGH SCHOOL': '77.7%', 'HANFORD HIGH SCHOOL': '62.2%', 'HANFORD WEST HIGH SCHOOL': '60.4%', 'LEMOORE MIDDLE COLLEGE HS': '20.0%', 'SIERRA PACIFIC HIGH SCHOOL': '53.9%'}, 'Lake': {'CLEAR LAKE HIGH SCHOOL': '48.1%', 'KELSEYVILLE HIGH SCHOOL': '67.9%', 'LOWER LAKE HIGH SCHOOL': '61.6%', 'MIDDLETOWN HIGH SCHOOL': '57.7%', 'UPPER LAKE HIGH SCHOOL': '73.4%'}, 'Lassen': {'LASSEN HIGH SCHOOL': '29.1%'}, 'Los Angeles': {'ABRAHAM LINCOLN HIGH SCHOOL': '92.9%', 'ACADEMY OF MEDICAL ARTS AT CARSON': '8.4%', 'ACADEMY OF SCIENTIFIC EXPLORAT': '8.4%', 'ACADEMY OF THE CANYONS': '8.4%', 'AGOURA HIGH SCHOOL': '6.1%', 'ALAIN LEROY LOCKE COLLEGE PREP': '95.8%', 'ALBERT EINSTEIN LETTER ART SCI': '4.3%', 'ALEXANDER HAMILTON HIGH SCHOOL': '70.1%', 'ALHAMBRA HIGH SCHOOL': '69.7%', 'ALLIANCE COLLINS FAMILY COLRDY': '92.3%', 'ALLIANCE JUDY BURTON TECH ACAD': '95.9%', 'ALLIANCE LEICHTMAN-LEVINE ESHS': '88.9%', 'ALLIANCE MORGAN MCKINZIE HS': '95.4%', 'ALLIANCE PATTI & PETER ACADEMY': '97.2%', 'ALLIANCE PIERA BARBAGLIA HSA': '89.0%', 'ALLIANCE RENEE & MEYER LUSKIN': '94.0%', 'ALLIANCE TED K TAJIMA HIGH SCH': '93.4%', 'ALLIANCE TENNENBAUM FAMILY TECH HS': '83.0%', 'ANIMO COLLEGE PREP ACADEMY': '95.9%', 'ANIMO INGLEWOOD CHARTER HS': '91.2%', 'ANIMO JACKIE ROBINSON CHRT SCH': '96.1%', 'ANIMO LEADERSHIP CHARTER HS': '93.5%', 'ANIMO PAT BROWN CHARTER HS': '97.2%', 'ANIMO RALPH BUNCHE CHARTER HS': '97.3%', 'ANIMO VENICE CHARTER HS': '85.5%', 'ANIMO WATTS COLLGE PREP ACDMY': '92.1%', 'ANTELOPE VALLEY HIGH SCHOOL': '82.4%', 'APEX ACADEMY HIGH SCHOOL': '97.7%', 'APPLIED TECHNOLOGY CENTER': '76.3%', 'ARCADIA HIGH SCHOOL': '21.2%', 'ARLETA HIGH SCHOOL': '82.0%', 'ARROYO HIGH SCHOOL': '84.4%', 'ARTESIA HIGH SCHOOL': '74.2%', 'AZUSA HIGH SCHOOL': '75.8%', 'BALDWIN PARK HIGH SCHOOL': '84.0%', 'BELL GARDENS SENIOR HS': '89.3%', 'BELLFLOWER HIGH SCHOOL': '74.7%', 'BEVERLY HILLS HIGH SCHOOL': '7.4%', 'BIRMINGHAM COMMUNITY HS': '85.3%', 'BONITA HIGH SCHOOL': '27.5%', 'BRIGHT STAR SECONDARY ACADEMY': '91.8%', 'CALABASAS HIGH SCHOOL': '7.7%', 'CALIFORNIA HIGH SCHOOL': '73.8%', 'CAMINO NUEVO HIGH SCHOOL NO 2': '97.4%', 'CAMINO NUEVO HIGH SCHOOL': '97.4%', 'CANOGA PARK HIGH SCHOOL': '87.6%', 'CANYON HIGH SCHOOL': '33.2%', 'CENTENNIAL HIGH SCHOOL': '82.7%', 'CENTRAL CITY VALUE HIGH SCHOOL': '90.4%', 'CERRITOS HIGH SCHOOL': '28.6%', 'CHARTER OAK HIGH SCHOOL': '49.6%', 'CITY HONORS HIGH SCHOOL': '78.1%', 'CLAREMONT HIGH SCHOOL': '31.9%', 'COVINA HIGH SCHOOL': '70.7%', 'CRESCENTA VALLEY HIGH SCHOOL': '17.4%', 'CULVER CITY HIGH SCHOOL': '33.9%', 'DA VINCI COMMUNICATIONS HS': '45.4%', 'DA VINCI DESIGN HIGH SCHOOL': '45.4%', 'DA VINCI SCIENCE HIGH SCHOOL': '45.4%', 'DANIEL PEARL MAGNET HIGH SCHL': '60.1%', 'DAVID STARR JORDAN HS': '85.4%', 'DIAMOND BAR HIGH SCHOOL': '10.2%', 'DIAMOND RANCH HIGH SCHOOL': '57.6%', 'DISCOVERY CHARTER PREP SCHOOL': '93.0%', 'DOWNEY HIGH SCHOOL': '65.1%', 'DUARTE HIGH SCHOOL': '66.5%', 'EAGLE ROCK HIGH SCHOOL': '63.2%', 'EARLY COLLEGE ACADEMY': '87.8%', 'EAST VALLEY HIGH SCHOOL': '85.3%', 'EASTSIDE HIGH SCHOOL': '80.6%', 'EDGEWOOD HIGH SCHOOL': '58.7%', 'EL CAMINO REAL CHARTER HIGH SC': '25.6%', 'EL MONTE HIGH SCHOOL': '94.3%', 'EL RANCHO HIGH SCHOOL': '71.2%', 'EL SEGUNDO HIGH SCHOOL': '12.2%', 'ENVIRONMENTAL CHARTER HS': '81.4%', 'EXECUTIVE PREPARATORY ACDMY': '82.9%', 'GABRIELINO HIGH SCHOOL': '53.1%', 'GANESHA HIGH SCHOOL': '88.3%', 'GAREY HIGH SCHOOL': '87.4%', 'GEORGE WASHINGTON PREP HS': '81.4%', 'GLADSTONE HIGH SCHOOL': '74.4%', 'GLENDALE HIGH SCHOOL': '67.7%', 'GLENDORA HIGH SCHOOL': '21.7%', 'GOLDEN VALLEY HIGH SCHOOL': '43.3%', 'GRANADA HILLS CHARTER HIGH SCH': '47.5%', 'GREEN DESIGN COMMUNITY SCHOOL': '93.7%', 'HARBOR TEACHER PREPARATORY ACA': '67.0%', 'HAWTHORNE HIGH SCHOOL': '81.4%', 'HAWTHORNE MATH & SCIENCE ACAD': '76.4%', 'HELEN BERNSTEIN HIGH SCHOOL': '91.3%', 'HERBERT HOOVER HIGH SCHOOL': '63.2%', 'HIGH TECH HIGH LA': '45.5%', 'HIGHLAND HIGH SCHOOL': '61.3%', 'HUMANITAS ACADEMY ART AND TECH': '92.6%', 'HUMANITIES AND ARTS ACADEMY-LA': '87.1%', 'HUNTINGTON PARK HIGH SCHOOL': '87.3%', 'HUNTINGTON PARK INST APLD MED': '87.3%', 'INGLEWOOD HIGH SCHOOL': '69.6%', 'INTERNATIONAL POLYTECHNIC HS': '29.3%', 'JAMES MONROE HIGH SCHOOL': '85.7%', 'JOHN MARSHALL FUNDAMENTAL SCH': '76.4%', 'JOHN MARSHALL HIGH SCHOOL': '76.4%', 'JOHN MUIR HIGH SCHOOL': '75.9%', 'LA CANADA HIGH SCHOOL': '1.6%', 'LA MIRADA HIGH SCHOOL': '46.3%', 'LA PUENTE HIGH SCHOOL': '85.0%', 'LA SERNA HIGH SCHOOL': '46.9%', 'LAKEWOOD HIGH SCHOOL': '58.2%', 'LANCASTER HIGH SCHOOL': '62.8%', 'LAWNDALE HIGH SCHOOL': '79.4%', 'LEUZINGER HIGH SCHOOL': '84.6%', 'LITTLEROCK HIGH SCHOOL': '83.4%', 'LOS ALTOS HIGH SCHOOL': '64.0%', 'LOS ANGELES ACAD ARTS ENTRPRSE': '92.3%', 'LOS ANGELES CNTY HS FOR ARTS': '92.3%', 'LOS ANGELES HS OF THE ARTS': '92.3%', 'LOS ANGELES INTL CHARTER HS': '92.3%', 'LOS ANGELES LEADERSHIP ACAD HS': '92.3%', 'LOS ANGELES RIVER SCHOOL': '92.3%', 'LOS ANGELES SCH GLOBAL STUDIES': '92.3%', 'LOS ANGELES SENIOR HIGH SCHOOL': '92.3%', 'LYNWOOD HIGH SCHOOL': '92.6%', 'MANUAL ARTS SENIOR HIGH SCHOOL': '87.2%', 'MARCO ANTONIO FIREBAUGH HS': '88.8%', 'MARK KEPPEL HIGH SCHOOL': '52.7%', 'MATH AND SCIENCE COLLEGE PREP': '93.4%', 'MAYFAIR HIGH SCHOOL': '52.0%', 'MAYWOOD ACADEMY HIGH SCHOOL': '89.1%', 'MIDDLE COLLEGE HIGH SCHOOL': '82.0%', 'MIRA COSTA HIGH SCHOOL': '4.7%', 'MONROVIA HIGH SCHOOL': '51.8%', 'MONTEBELLO HIGH SCHOOL': '84.8%', 'MORNINGSIDE HIGH SCHOOL': '80.8%', 'MOUNTAIN VIEW HIGH SCHOOL': '93.7%', 'NEW VILLAGE CHARTER SCHOOL': '98.0%', 'NOGALES HIGH SCHOOL': '81.2%', 'NORTH HIGH SCHOOL': '39.1%', 'NORTH HOLLYWOOD HIGH SCHOOL': '75.9%', 'NORTHRIDGE ACADEMY HIGH SCHOOL': '72.8%', 'NORTHVIEW HIGH SCHOOL': '69.3%', 'NORWALK HIGH SCHOOL': '82.0%', 'OPTIONS FOR YOUTH BURBANK': '72.6%', 'OPTIONS FOR YOUTH SAN GABRIEL': '72.6%', 'OSCAR DE LA HOYA ANIMO CHARTER': '94.5%', 'PALISADES CHARTER HIGH SCHOOL': '29.5%', 'PALMDALE HIGH SCHOOL': '80.1%', 'PALOMARES ACADEMY': '86.9%', 'PALOS VERDES HIGH SCHOOL': '1.8%', 'PALOS VERDES PENINSULA HS': '1.8%', 'PANORAMA HIGH SCHOOL': '95.8%', 'PARAMOUNT HIGH SCHOOL': '92.3%', 'PASADENA HIGH SCHOOL': '58.9%', 'PHINEAS BANNING HIGH SCHOOL': '87.4%', 'PIONEER HIGH SCHOOL': '83.9%', 'POMONA HIGH SCHOOL': '85.2%', 'PORT OF LOS ANGELES HS': '61.2%', 'PUC EARLY COLG ACADEMY LEADERS': '76.6%', 'PUC LAKEVIEW CHARTER HIGH SCHL': '72.4%', 'QUARTZ HILL HIGH SCHOOL': '36.4%', 'REDONDO UNION HIGH SCHOOL': '16.4%', 'ROSEMEAD HIGH SCHOOL': '82.3%', 'SAN DIMAS HIGH SCHOOL': '33.0%', 'SAN FERNANDO HIGH SCHOOL': '93.2%', 'SAN GABRIEL HIGH SCHOOL': '75.9%', 'SAN MARINO HIGH SCHOOL': '3.3%', 'SAN PEDRO HIGH SCHOOL': '68.2%', 'SANTA FE HIGH SCHOOL': '73.2%', 'SANTA MONICA HIGH SCHOOL': '26.9%', 'SANTEE EDUCATION COMPLEX': '88.7%', 'SAUGUS HIGH SCHOOL': '12.9%', 'SCHOOL OF ARTS AND ENTERPRISE': '68.1%', 'SCHURR HIGH SCHOOL': '61.0%', 'SIERRA VISTA HIGH SCHOOL': '85.2%', 'SOCIAL JUSTICE HUMANITAS ACAD': '91.5%', 'SOCIAL JUSTICE LDRSHP @ TORRES': '91.5%', 'SOUTH EAST HIGH SCHOOL': '90.3%', 'SOUTH EL MONTE HIGH SCHOOL': '90.3%', 'SOUTH GATE HIGH SCHOOL': '86.4%', 'SOUTH HIGH SCHOOL': '14.6%', 'SOUTH HILLS HIGH SCHOOL': '53.7%', 'SOUTH PASADENA HIGH SCHOOL': '15.3%', 'STEM ACADEMY OF HOLLYWOOD': '96.6%', 'SUN VALLEY HIGH SCHOOL': '84.6%', 'SUN VALLEY MAGNET SCHOOL': '84.6%', 'SUSAN MILLER DORSEY SENIOR HS': '85.8%', 'SYLMAR BIOTECH HEALTH ACADEMY': '99.3%', 'SYNERGY QUANTUM ACADEMY': '98.1%', 'TEMPLE CITY HIGH SCHOOL': '38.5%', 'THEODORE ROOSEVELT SENIOR HS': '96.5%', 'THOMAS JEFFERSON HIGH SCHOOL': '81.5%', 'TORRANCE HIGH SCHOOL': '29.1%', 'USC HYBRID HIGH SCHOOL': '78.7%', 'VALENCIA HIGH SCHOOL': '10.6%', 'VALLEY ACADEMY ARTS & SCIENCES': '67.2%', 'VALOR ACADEMY CHARTER SCHOOL': '86.8%', 'VAN NUYS HIGH SCHOOL': '73.1%', 'VASQUEZ HIGH SCHOOL': '34.8%', 'VERDUGO HILLS HIGH SCHOOL': '76.9%', 'VIEW PARK PREP ACCEL CHARTER HS': '77.2%', 'WALLIS ANNENBERG HIGH SCHOOL': '97.0%', 'WALNUT HIGH SCHOOL': '14.4%', 'WARREN HIGH SCHOOL': '66.3%', 'WEST ADAMS PREPARATORY HS': '85.3%', 'WEST COVINA HIGH SCHOOL': '61.6%', 'WEST HIGH SCHOOL': '18.3%', 'WEST RANCH HIGH SCHOOL': '9.3%', 'WHITTIER HIGH SCHOOL': '73.3%', 'WOODROW WILSON HIGH SCHOOL': '93.7%'}, 'Madera': {'CHOWCHILLA UNION HIGH SCHOOL': '59.1%', 'LIBERTY HIGH SCHOOL': '29.3%', 'MADERA HIGH SCHOOL': '76.3%', 'MADERA SOUTH HIGH SCHOOL': '90.8%', 'MINARETS CHARTER HIGH SCHOOL': '29.2%', 'MINARETS HIGH SCHOOL': '43.6%', 'YOSEMITE HIGH SCHOOL': '40.6%'}, 'Marin': {'NOVATO HIGH SCHOOL': '31.5%', 'REDWOOD HIGH SCHOOL': '5.0%', 'SAN MARIN HIGH SCHOOL': '17.4%', 'SAN RAFAEL HIGH SCHOOL': '58.3%', 'SIR FRANCIS DRAKE HIGH SCHOOL': '7.8%', 'TAMALPAIS HIGH SCHOOL': '7.5%', 'TERRA LINDA HIGH SCHOOL': '32.6%', 'TOMALES HIGH SCHOOL': '62.6%'}, 'Mariposa': {'MARIPOSA COUNTY HIGH SCHOOL': '46.5%'}, 'Mendocino': {'ANDERSON VALLEY JR SR HS': '71.9%', 'FORT BRAGG HIGH SCHOOL': '53.0%', 'MENDOCINO HIGH SCHOOL': '23.3%', 'REDWOOD ACADEMY OF UKIAH': '41.3%', 'UKIAH HIGH SCHOOL': '61.1%', 'WILLITS HIGH SCHOOL': '74.0%'}, 'Merced': {'ATWATER HIGH SCHOOL': '77.9%', 'BUHACH COLONY HIGH SCHOOL': '67.5%', 'DELHI HIGH SCHOOL': '79.4%', 'DOS PALOS HIGH SCHOOL': '90.0%', 'EL CAPITAN HIGH SCHOOL': '68.7%', 'GOLDEN VALLEY HIGH SCHOOL': '79.8%', 'GUSTINE HIGH SCHOOL': '65.0%', 'HILMAR HIGH SCHOOL': '50.3%', 'LE GRAND UNION HIGH SCHOOL': '76.2%', 'LIVINGSTON HIGH SCHOOL': '82.6%', 'LOS BANOS HIGH SCHOOL': '59.5%', 'MERCED HIGH SCHOOL': '72.7%', 'PACHECO HIGH SCHOOL': '78.5%'}, 'Modoc': {'MODOC HIGH SCHOOL': '41.5%'}, 'Mono': {'MAMMOTH HIGH SCHOOL': '50.6%'}, 'Monterey': {'ALISAL HIGH SCHOOL': '81.6%', 'CARMEL HIGH SCHOOL': '12.0%', 'EVERETT ALVAREZ HIGH SCHOOL': '62.1%', 'GONZALES HIGH SCHOOL': '83.4%', 'GREENFIELD HIGH SCHOOL': '62.2%', 'KING CITY JOINT UNION HS': '71.5%', 'MARINA HIGH SCHOOL': '63.9%', 'MILLENNIUM CHARTER HIGH SCHOOL': '21.0%', 'MONTEREY HIGH SCHOOL': '45.2%', 'NORTH MONTEREY COUNTY HS': '79.4%', 'NORTH SALINAS HIGH SCHOOL': '65.7%', 'PACIFIC GROVE HIGH SCHOOL': '16.7%', 'SALINAS HIGH SCHOOL': '45.0%', 'SEASIDE HIGH SCHOOL': '69.1%', 'SOLEDAD HIGH SCHOOL': '84.0%'}, 'Napa': {'AMERICAN CANYON HIGH SCHOOL': '36.9%', 'NAPA HIGH SCHOOL': '47.2%', 'SAINT HELENA HIGH SCHOOL': '9.4%', 'VINTAGE HIGH SCHOOL': '40.1%'}, 'Nevada': {'BEAR RIVER HIGH SCHOOL': '25.4%', 'NEVADA UNION HIGH SCHOOL': '34.4%'}, 'Orange': {'ALISO NIGUEL HIGH SCHOOL': '12.4%', 'ANAHEIM HIGH SCHOOL': '81.0%', 'BOLSA GRANDE HIGH SCHOOL': '70.9%', 'BUENA PARK HIGH SCHOOL': '71.7%', 'CANYON HIGH SCHOOL': '10.6%', 'CAPISTRANO VALLEY HIGH SCHOOL': '22.5%', 'CENTURY HIGH SCHOOL': '95.2%', 'CORONA DEL MAR HIGH SCHOOL': '6.0%', 'COSTA MESA HIGH SCHOOL': '61.9%', 'CYPRESS HIGH SCHOOL': '29.8%', 'DANA HILLS HIGH SCHOOL': '21.3%', 'EDISON HIGH SCHOOL': '11.3%', 'EL DORADO HIGH SCHOOL': '20.9%', 'EL MODENA HIGH SCHOOL': '42.5%', 'EL TORO HIGH SCHOOL': '23.4%', 'ESPERANZA HIGH SCHOOL': '18.8%', 'ESTANCIA HIGH SCHOOL': '70.6%', 'FOOTHILL HIGH SCHOOL': '27.1%', 'FOUNTAIN VALLEY HIGH SCHOOL': '26.1%', 'FULLERTON UNION HIGH SCHOOL': '49.4%', 'GARDEN GROVE HIGH SCHOOL': '61.0%', 'HUNTINGTON BEACH HIGH SCHOOL': '13.2%', 'IRVINE HIGH SCHOOL': '19.4%', 'KATELLA HIGH SCHOOL': '77.9%', 'LA HABRA HIGH SCHOOL': '44.5%', 'LA QUINTA HIGH SCHOOL': '61.4%', 'LAGUNA BEACH HIGH SCHOOL': '6.9%', 'LAGUNA HILLS HIGH SCHOOL': '30.8%', 'LOARA HIGH SCHOOL': '75.4%', 'LOS ALAMITOS HIGH SCHOOL': '13.8%', 'LOS AMIGOS HIGH SCHOOL': '81.6%', 'MAGNOLIA HIGH SCHOOL': '78.7%', 'MARINA HIGH SCHOOL': '18.9%', 'MISSION VIEJO HIGH SCHOOL': '18.5%', 'NEWPORT HARBOR HIGH SCHOOL': '32.5%', 'NORTHWOOD HIGH SCHOOL': '8.2%', 'NOVA ACADEMY EARLY COLLEGE HS': '85.9%', 'OCEAN VIEW HIGH SCHOOL': '51.8%', 'ORANGE COUNTY HS OF THE ARTS': '82.0%', 'ORANGE HIGH SCHOOL': '72.1%', 'OXFORD ACADEMY': '34.1%', 'PACIFICA HIGH SCHOOL': '34.8%', 'RANCHO ALAMITOS HIGH SCHOOL': '68.9%', 'SADDLEBACK HIGH SCHOOL': '91.7%', 'SAMUELI ACADEMY': '68.4%', 'SAN CLEMENTE HIGH SCHOOL': '20.9%', 'SAN JUAN HILLS HIGH SCHOOL': '25.0%', 'SANTA ANA HIGH SCHOOL': '95.1%', 'SANTIAGO HIGH SCHOOL': '77.2%', 'SAVANNA HIGH SCHOOL': '76.5%', 'SEGERSTROM HIGH SCHOOL': '83.9%', 'SONORA HIGH SCHOOL': '42.1%', 'SUNNY HILLS HIGH SCHOOL': '27.9%', 'TESORO HIGH SCHOOL': '6.2%', 'TRABUCO HILLS HIGH SCHOOL': '13.1%', 'TROY HIGH SCHOOL': '21.0%', 'TUSTIN HIGH SCHOOL': '68.3%', 'UNIVERSITY HIGH SCHOOL': '14.5%', 'VALENCIA HIGH SCHOOL': '54.1%', 'VALLEY HIGH SCHOOL': '92.8%', 'VILLA PARK HIGH SCHOOL': '28.3%', 'WESTERN HIGH SCHOOL': '70.0%', 'WESTMINSTER HIGH SCHOOL': '76.2%', 'WOODBRIDGE HIGH SCHOOL': '17.8%', 'YORBA LINDA HIGH SCHOOL': '9.5%'}, 'Placer': {'COLFAX HIGH SCHOOL': '26.8%', 'DEL ORO HIGH SCHOOL': '11.2%', 'GRANITE BAY HIGH SCHOOL': '7.0%', 'LINCOLN HIGH SCHOOL': '29.0%', 'NORTH TAHOE HIGH SCHOOL': '42.2%', 'OAKMONT HIGH SCHOOL': '20.2%', 'PLACER HIGH SCHOOL': '26.5%', 'ROCKLIN HIGH SCHOOL': '11.8%', 'ROSEVILLE HIGH SCHOOL': '26.1%', 'TAHOE TRUCKEE HIGH SCHOOL': '27.7%', 'WHITNEY HIGH SCHOOL': '16.6%', 'WOODCREEK HIGH SCHOOL': '13.7%'}, 'Riverside': {'ARLINGTON HIGH SCHOOL': '68.1%', 'BANNING HIGH SCHOOL': '82.6%', 'CANYON SPRINGS HIGH SCHOOL': '72.9%', 'CATHEDRAL CITY HIGH SCHOOL': '83.7%', 'CENTENNIAL HIGH SCHOOL': '50.1%', 'CHAPARRAL HIGH SCHOOL': '24.6%', 'CITRUS HILL HIGH SCHOOL': '80.9%', 'COACHELLA VALLEY HIGH SCHOOL': '81.9%', 'CORONA HIGH SCHOOL': '61.8%', 'DESERT HOT SPRINGS HS': '88.4%', 'DESERT MIRAGE HIGH SCHOOL': '98.0%', 'ELEANOR ROOSEVELT HIGH SCHOOL': '37.3%', 'ELSINORE HIGH SCHOOL': '61.2%', 'GREAT OAK HIGH SCHOOL': '14.1%', 'HAMILTON HIGH SCHOOL': '73.9%', 'HEMET HIGH SCHOOL': '67.7%', 'HERITAGE HIGH SCHOOL': '69.1%', 'HILLCREST HIGH SCHOOL': '56.8%', 'INDIO HIGH SCHOOL': '87.1%', 'JURUPA VALLEY HIGH SCHOOL': '73.0%', 'LA QUINTA HIGH SCHOOL': '51.2%', 'LA SIERRA HIGH SCHOOL': '73.5%', 'LAKESIDE HIGH SCHOOL': '73.7%', 'MARTIN LUTHER KING HIGH SCHOOL': '30.9%', 'MORENO VALLEY HIGH SCHOOL': '89.5%', 'MURRIETA MESA HIGH SCHOOL': '28.6%', 'MURRIETA VALLEY HIGH SCHOOL': '19.9%', 'NORCO HIGH SCHOOL': '38.5%', 'NORTE VISTA SENIOR HIGH SCHOOL': '84.8%', 'NUVIEW BRIDGE EARLY COLLEGE HS': '63.9%', 'PALM DESERT HIGH SCHOOL': '44.9%', 'PALM SPRINGS HIGH SCHOOL': '71.1%', 'PALO VERDE HIGH SCHOOL': '66.7%', 'PALOMA VALLEY HIGH SCHOOL': '54.3%', 'PATRIOT HIGH SCHOOL': '61.7%', 'PERRIS HIGH': '87.5%', 'RAMONA HIGH SCHOOL': '79.2%', 'RANCHO MIRAGE HIGH SCHOOL': '69.2%', 'RANCHO VERDE HIGH SCHOOL': '75.0%', 'RUBIDOUX HIGH SCHOOL': '77.4%', 'SAN JACINTO HIGH SCHOOL': '77.7%', 'SAN JACINTO VALLEY ACADEMY': '77.7%', 'SANTIAGO HIGH SCHOOL': '24.4%', 'SHADOW HILLS HIGH SCHOOL': '66.4%', 'TAHQUITZ HIGH SCHOOL': '79.6%', 'TEMECULA VALLEY HIGH SCHOOL': '23.0%', 'TEMESCAL CANYON HIGH SCHOOL': '50.9%', 'VALLEY VIEW HIGH SCHOOL': '72.2%', 'VISTA DEL LAGO HIGH SCHOOL': '80.7%', 'VISTA MURRIETA HIGH SCHOOL': '25.0%', 'WEST SHORES HIGH SCHOOL': '96.1%', 'WEST VALLEY HIGH SCHOOL': '81.6%'}, 'Sacramento': {'BELLA VISTA HIGH SCHOOL': '24.1%', 'CASA ROBLE FUNDAMENTAL HS': '33.5%', 'CENTER HIGH SCHOOL': '55.3%', 'CORDOVA HIGH SCHOOL': '64.7%', 'COSUMNES OAKS HIGH SCHOOL': '30.3%', 'DEL CAMPO HIGH SCHOOL': '45.8%', 'EL CAMINO FUNDAMENTAL HS': '45.9%', 'ELK GROVE HIGH SCHOOL': '38.3%', 'FLORIN HIGH SCHOOL': '94.3%', 'FOLSOM HIGH SCHOOL': '13.4%', 'FOOTHILL HIGH SCHOOL': '78.0%', 'FRANKLIN HIGH SCHOOL': '34.7%', 'FUTURES HIGH SCHOOL': '74.2%', 'GALT HIGH SCHOOL': '69.1%', 'GEORGE WASHINGTON SCHL OF ARTS': '41.1%', 'HIGHLANDS HIGH SCHOOL': '80.2%', 'INDERKUM HIGH SCHOOL': '46.6%', 'LAGUNA CREEK HIGH SCHOOL': '45.5%', 'LIBERTY RANCH HIGH SCHOOL': '50.9%', 'LUTHER BURBANK HIGH SCHOOL': '89.2%', 'MESA VERDE HIGH SCHOOL': '63.1%', 'MIRA LOMA HIGH SCHOOL': '49.0%', 'MONTEREY TRAIL HIGH SCHOOL': '69.1%', 'NATOMAS HIGH SCHOOL': '63.9%', 'NATOMAS PACIFIC PATHWAYS PREP': '38.6%', 'OPTIONS FOR YOUTH SAN JUAN': '72.1%', 'PLEASANT GROVE HIGH SCHOOL': '27.9%', 'RIO AMERICANO HIGH SCHOOL': '19.9%', 'RIO LINDA SENIOR HIGH SCHOOL': '78.5%', 'ROSEMONT HIGH SCHOOL': '70.4%', 'SAN JUAN HIGH SCHOOL': '76.1%', 'SHELDON HIGH SCHOOL': '56.5%', 'VALLEY HIGH SCHOOL': '94.2%', 'VISTA DEL LAGO HIGH SCHOOL': '6.6%', 'WEST CAMPUS HIGH SCHOOL': '58.0%'}, 'San Benito': {'ANZAR HIGH SCHOOL': '56.3%', 'SAN BENITO HIGH SCHOOL': '45.2%'}, 'San Bernardino': {'ACADEMY OF CAREERS/EXPLORATION': '59.3%', 'ADELANTO HIGH SCHOOL': '83.1%', 'ALTA LOMA HIGH SCHOOL': '52.3%', 'APPLE VALLEY HIGH SCHOOL': '53.7%', 'ARROYO VALLEY HIGH SCHOOL': '80.6%', 'BARSTOW HIGH SCHOOL': '69.0%', 'BIG BEAR HIGH SCHOOL': '60.7%', 'BLOOMINGTON HIGH SCHOOL': '79.4%', 'CAJON HIGH SCHOOL': '73.2%', 'CHAFFEY HIGH SCHOOL': '84.8%', 'CHINO HIGH SCHOOL': '63.4%', 'CHINO HILLS HIGH SCHOOL': '27.9%', 'CITRUS VALLEY HIGH SCHOOL': '51.0%', 'COBALT INSTITUTE MATH/SCIENCE': '76.2%', 'COLONY HIGH SCHOOL': '71.1%', 'COLTON HIGH SCHOOL': '81.2%', 'DON ANTONIO LUGO HIGH SCHOOL': '67.4%', 'ETIWANDA HIGH SCHOOL': '39.7%', 'EXCELSIOR CHARTER SCHOOLS': '51.6%', 'FONTANA HIGH SCHOOL': '92.0%', 'GRAND TERRACE HIGH SCHOOL': '66.1%', 'GRANITE HILLS HIGH SCHOOL': '67.9%', 'HESPERIA HIGH SCHOOL': '76.1%', 'INDIAN SPRINGS HIGH SCHOOL': '87.2%', 'JURUPA HILLS HIGH SCHOOL': '79.2%', 'LOS OSOS HIGH SCHOOL': '30.9%', 'LUCERNE VALLEY HIGH SCHOOL': '77.5%', 'MONTCLAIR HIGH SCHOOL': '85.0%', 'OAK HILLS HIGH SCHOOL': '58.7%', 'ONTARIO HIGH SCHOOL': '85.2%', 'OPTIONS FOR YOUTH VICTOR VALLEY': '82.3%', 'PACIFIC HIGH SCHOOL': '82.9%', 'RANCHO CUCAMONGA HIGH SCHOOL': '40.5%', 'REDLANDS EAST VALLEY HS': '52.0%', 'RIALTO HIGH SCHOOL': '80.5%', 'RIM OF THE WORLD HIGH SCHOOL': '39.2%', 'SAN BERNARDINO HIGH SCHOOL': '86.6%', 'SAN GORGONIO HIGH SCHOOL': '86.9%', 'SERRANO HIGH SCHOOL': '63.3%', 'SILVER VALLEY HIGH SCHOOL': '49.1%', 'SILVERADO HIGH SCHOOL': '81.0%', 'SULTANA HIGH SCHOOL': '63.8%', 'SUMMIT HIGH SCHOOL': '65.8%', 'TWENTYNINE PALMS HIGH SCHOOL': '56.2%', 'UNIVERSITY PREPARATORY': '71.5%', 'UPLAND HIGH SCHOOL': '50.5%', 'VICTOR VALLEY HIGH SCHOOL': '85.5%', 'WILMER AMINA CARTER HS': '70.2%', 'YUCCA VALLEY HIGH SCHOOL': '61.3%'}, 'San Diego': {'BONITA VISTA HIGH SCHOOL': '27.1%', 'CANYON CREST ACADEMY': '2.6%', 'CARLSBAD HIGH SCHOOL': '17.7%', 'CASTLE PARK HIGH SCHOOL': '71.1%', 'CHARTER SCHOOL OF SAN DIEGO': '74.3%', 'CHULA VISTA LRNG CMNTY CHARTER': '70.7%', 'CHULA VISTA SENIOR HIGH SCHOOL': '70.7%', 'CLAIREMONT HIGH SCHOOL': '55.9%', 'CLASSICAL ACADEMY HIGH SCHOOL': '15.4%', 'CORONADO HIGH SCHOOL': '5.5%', 'CRAWFORD HIGH SCHOOL': '91.0%', 'DEL LAGO ACADEMY': '52.7%', 'DEL NORTE HIGH SCHOOL': '7.7%', 'E3 CIVIC HIGH': '66.2%', 'EASTLAKE HIGH SCHOOL': '18.3%', 'EL CAJON VALLEY HIGH SCHOOL': '89.8%', 'EL CAMINO HIGH SCHOOL': '46.6%', 'EL CAPITAN HIGH SCHOOL': '49.4%', 'ESCONDIDO CHARTER HIGH SCHOOL': '36.4%', 'ESCONDIDO HIGH SCHOOL': '69.5%', 'GRANITE HILLS HIGH SCHOOL': '47.2%', 'GROSSMONT HIGH SCHOOL': '51.4%', 'HEALTH SCIENCES HIGH/MID COLL': '68.2%', 'HELIX HIGH SCHOOL': '60.7%', 'HIGH TECH HIGH CHULA VISTA': '36.2%', 'HIGH TECH HIGH INTERNATIONAL': '36.2%', 'HIGH TECH HIGH MEDIA ARTS': '36.2%', 'HIGH TECH HIGH SCHOOL': '36.2%', 'HIGH TECH HIGH-NORTH COUNTY': '36.2%', 'KEARNY COLLEGE CONNECTIONS': '73.5%', 'KEARNY DIGITAL MEDIA & DESIGN': '74.7%', 'KEARNY SCT': '69.4%', 'LA COSTA CANYON HIGH SCHOOL': '8.9%', 'LA JOLLA HIGH': '27.7%', 'LINCOLN HIGH SCHOOL': '85.8%', 'MAR VISTA HIGH SCHOOL': '55.8%', 'MIRA MESA HIGH SCHOOL': '45.0%', 'MISSION BAY HIGH': '66.2%', 'MISSION HILLS HIGH SCHOOL': '42.6%', 'MONTE VISTA HIGH SCHOOL': '73.4%', 'MOUNT MIGUEL HIGH SCHOOL': '75.6%', 'MOUNTAIN EMPIRE HIGH SCHOOL': '68.1%', 'OCEANSIDE HIGH SCHOOL': '63.5%', 'OLYMPIAN HIGH SCHOOL': '22.9%', 'ORANGE GLEN HIGH SCHOOL': '84.3%', 'OTAY RANCH HIGH SCHOOL': '26.6%', 'POINT LOMA HIGH SCHOOL': '39.7%', 'POWAY HIGH SCHOOL': '17.6%', 'RAMONA HIGH SCHOOL': '33.2%', 'RANCHO BERNARDO HIGH SCHOOL': '12.0%', 'RANCHO BUENA VISTA HIGH SCHOOL': '52.6%', 'RIVER VALLEY CHARTER SCHOOL': '6.4%', 'SAGE CREEK HIGH SCHOOL': '16.0%', 'SAN DIEGO BUSINESS LEADERSHIP': '91.0%', 'SAN DIEGO INTL STUDIES': '91.0%', 'SAN DIEGO MET': '91.0%', 'SAN DIEGO SCHL CREATE/PERFORM': '91.0%', 'SAN DIEGO SCIENCE & TECHNOLOGY': '91.0%', 'SAN DIEGUITO ACADEMY': '9.5%', 'SAN MARCOS HIGH SCHOOL': '32.4%', 'SAN PASQUAL HIGH SCHOOL': '51.4%', 'SAN YSIDRO HIGH SCHOOL': '71.1%', 'SANTANA HIGH SCHOOL': '39.4%', 'SCRIPPS RANCH HIGH': '17.5%', 'SERRA HIGH': '54.6%', 'STEELE CANYON HIGH SCHOOL': '26.0%', 'TORREY PINES HIGH SCHOOL': '6.1%', 'UNIVERSITY CITY HIGH': '39.7%', 'VALHALLA HIGH SCHOOL': '51.0%', 'VALLEY CENTER HIGH SCHOOL': '44.9%', 'VISTA HIGH SCHOOL': '64.2%', 'WEST HILLS HIGH SCHOOL': '32.3%', 'WESTVIEW HIGH SCHOOL': '10.0%'}, 'San Francisco': {'BALBOA HIGH SCHOOL': '66.1%', 'CITY ARTS AND TECH HIGH SCHOOL': '72.2%', 'GATEWAY HIGH SCHOOL': '41.5%', 'KIPP SAN FRANCISCO COLG PREP': '81.4%', 'LEADERSHIP HIGH SCHOOL': '66.2%', 'LOWELL HIGH SCHOOL': '38.5%'}, 'San Joaquin': {'BEAR CREEK HIGH SCHOOL': '57.8%', 'CESAR CHAVEZ HIGH SCHOOL': '75.3%', 'EAST UNION HIGH SCHOOL': '48.0%', 'ESCALON HIGH SCHOOL': '38.3%', 'HEALTH CAREERS ACADEMY HS': '81.3%', 'LATHROP HIGH SCHOOL': '50.4%', 'LINCOLN HIGH SCHOOL': '52.0%', 'LINDEN HIGH SCHOOL': '54.7%', 'LODI HIGH SCHOOL': '48.7%', 'MANTECA HIGH SCHOOL': '52.1%', 'MIDDLE COLLEGE HIGH SCHOOL': '46.8%', 'MOUNTAIN HOUSE HIGH SCHOOL': '18.4%', 'RIPON HIGH SCHOOL': '30.1%', 'SIERRA HIGH SCHOOL': '40.4%', 'TOKAY HIGH SCHOOL': '62.5%', 'WESTON RANCH HIGH SCHOOL': '64.4%'}, 'San Luis Obispo': {'ARROYO GRANDE HIGH (CROWN HILL)': '35.2%', 'ARROYO GRANDE HIGH SCHOOL': '35.2%', 'ATASCADERO HIGH SCHOOL': '30.4%', 'CENTRAL COAST NEW TECH HIGH': '26.2%', 'COAST UNION HIGH SCHOOL': '53.2%', 'MORRO BAY HIGH SCHOOL': '31.1%', 'NIPOMO HIGH SCHOOL': '57.9%', 'PASO ROBLES HIGH SCHOOL': '37.2%', 'SAN LUIS OBISPO HIGH SCHOOL': '23.2%', 'TEMPLETON HIGH SCHOOL': '10.1%'}, 'San Mateo': {'ARAGON HIGH SCHOOL': '16.3%', 'BURLINGAME HIGH SCHOOL': '6.6%', 'CAPUCHINO HIGH SCHOOL': '26.0%', 'CARLMONT HIGH SCHOOL': '9.4%', 'EAST PALO ALTO ACADEMY': '88.4%', 'EAST PALO ALTO PHOENIX ACAD': '88.4%', 'EL CAMINO HIGH': '22.4%', 'EVEREST PUBLIC HIGH SCHOOL': '57.9%', 'HALF MOON BAY HIGH SCHOOL': '34.8%', 'HILLSDALE HIGH SCHOOL': '15.2%', 'JEFFERSON HIGH SCHOOL': '53.1%', 'MILLS HIGH SCHOOL': '15.1%', 'PESCADERO HIGH SCHOOL': '60.2%', 'SAN MATEO HIGH SCHOOL': '28.6%', 'SEQUOIA HIGH SCHOOL': '37.7%', 'SOUTH SAN FRANCISCO HS': '37.0%', 'SUMMIT PREPARATORY HIGH SCHOOL': '49.1%', 'SUMMIT PUBLIC SCHOOL-SHASTA': '22.8%', 'TERRA NOVA HIGH SCHOOL': '18.9%', 'WESTMOOR HIGH SCHOOL': '36.8%', 'WOODSIDE HIGH SCHOOL': '32.7%'}, 'Santa Barbara': {'CABRILLO HIGH SCHOOL': '43.9%', 'DOS PUEBLOS HIGH SCHOOL': '32.2%', 'ERNEST RIGHETTI HIGH SCHOOL': '50.7%', 'LOMPOC HIGH SCHOOL': '72.1%', 'PIONEER VALLEY HIGH SCHOOL': '72.9%', 'SAN MARCOS HIGH SCHOOL': '40.9%', 'SANTA BARBARA SENIOR HIGH SCHO': '43.5%', 'SANTA MARIA HIGH SCHOOL': '82.3%', 'SANTA YNEZ VALLEY UNION HS': '22.5%'}, 'Santa Clara': {'ABRAHAM LINCOLN HIGH SCHOOL': '56.0%', 'ACE CHARTER HIGH SCHOOL': '89.4%', 'ANN SOBRATO HIGH SCHOOL': '29.4%', 'BRANHAM HIGH SCHOOL': '12.6%', 'CHRISTOPHER HIGH SCHOOL': '40.3%', 'CUPERTINO HIGH SCHOOL': '6.7%', 'DEL MAR HIGH SCHOOL': '42.2%', 'EVERGREEN VALLEY HIGH SCHOOL': '16.3%', 'FREMONT HIGH SCHOOL': '32.2%', 'GILROY HIGH SCHOOL': '58.8%', 'HOMESTEAD HIGH SCHOOL': '13.3%', 'INDEPENDENCE HIGH SCHOOL': '48.7%', 'JAMES LICK HIGH SCHOOL': '82.0%', 'KIPP SAN JOSE COLLEGIATE': '73.2%', 'LATINO COLLEGE PREP ACADEMY': '82.3%', 'LEIGH HIGH SCHOOL': '5.2%', 'LELAND HIGH SCHOOL': '9.0%', 'LIVE OAK HIGH SCHOOL': '36.6%', 'LOS ALTOS HIGH SCHOOL': '15.7%', 'LOS GATOS HIGH SCHOOL': '2.6%', 'LYNBROOK HIGH SCHOOL': '4.2%', 'MILPITAS HIGH SCHOOL': '30.6%', 'MONTA VISTA HIGH SCHOOL': '1.7%', 'MOUNTAIN VIEW HIGH SCHOOL': '14.1%', 'OAK GROVE HIGH SCHOOL': '48.7%', 'PALO ALTO SENIOR HIGH SCHOOL': '8.9%', 'PIEDMONT HILLS HIGH SCHOOL': '27.6%', 'PIONEER HIGH SCHOOL': '28.6%', 'PROSPECT HIGH SCHOOL': '21.7%', 'SAN JOSE HIGH SCHOOL': '74.4%', 'SANTA CLARA HIGH SCHOOL': '37.8%', 'SANTA TERESA HIGH SCHOOL': '21.0%', 'SARATOGA HIGH SCHOOL': '0.7%', 'SILVER CREEK HIGH SCHOOL': '38.1%', 'SUMMIT PUBLIC SCHOOL-RAINIER': '43.5%', 'SUMMIT PUBLIC SCHOOL-TAHOMA': '43.5%', 'WESTMONT HIGH SCHOOL': '18.0%', 'WILLOW GLEN HIGH SCHOOL': '38.1%', 'YERBA BUENA HIGH SCHOOL': '76.3%'}, 'Santa Cruz': {'APTOS HIGH SCHOOL': '32.7%', 'HARBOR HIGH SCHOOL': '55.0%', 'PACIFIC COLLEGIATE SCHOOL': '9.8%', 'PAJARO VALLEY HS': '86.2%', 'SAN LORENZO VALLEY HIGH SCHOOL': '14.1%', 'SANTA CRUZ HIGH SCHOOL': '29.8%', 'SCOTTS VALLEY HIGH SCHOOL': '8.7%', 'SOQUEL HIGH SCHOOL': '32.3%', 'WATSONVILLE HIGH SCHOOL': '78.7%'}, 'Shasta': {'ENTERPRISE HIGH SCHOOL': '43.8%', 'FOOTHILL HIGH SCHOOL': '21.0%', 'SHASTA HIGH SCHOOL': '32.1%', 'WEST VALLEY HIGH SCHOOL': '44.0%'}, 'Sierra': {'LOYALTON HIGH SCHOOL': '28.4%'}, 'Siskiyou': {'HAPPY CAMP HIGH SCHOOL': '42.9%', 'YREKA HIGH SCHOOL': '43.9%'}, 'Solano': {'ANGELO RODRIGUEZ HIGH SCHOOL': '29.0%', 'ARMIJO HIGH SCHOOL': '56.8%', 'BENICIA HIGH SCHOOL': '17.8%', 'DIXON HIGH SCHOOL': '44.1%', 'FAIRFIELD HIGH SCHOOL': '65.0%', 'VACAVILLE HIGH SCHOOL': '32.7%', 'VANDEN HIGH SCHOOL': '23.3%'}, 'Sonoma': {'ANALY HIGH SCHOOL': '17.3%', 'CASA GRANDE HIGH SCHOOL': '38.9%', 'CLOVERDALE HIGH SCHOOL': '45.9%', 'CREDO HIGH SCHOOL': '30.2%', 'EL MOLINO HIGH SCHOOL': '31.2%', 'ELSIE ALLEN HIGH SCHOOL': '69.3%', 'HEALDSBURG HIGH SCHOOL': '45.0%', 'MARIA CARRILLO HIGH SCHOOL': '16.1%', 'MONTGOMERY HIGH SCHOOL': '31.2%', 'PETALUMA HIGH SCHOOL': '29.7%', 'PINER HIGH SCHOOL': '54.4%', 'RANCHO COTATE HIGH SCHOOL': '33.3%', 'SANTA ROSA HIGH SCHOOL': '33.3%', 'SONOMA VALLEY HIGH SCHOOL': '52.5%', 'WINDSOR HIGH SCHOOL': '28.5%'}, 'Stanislaus': {'CENTRAL VALLEY HIGH SCHOOL': '84.4%', 'CERES HIGH SCHOOL': '79.6%', 'DENAIR HIGH SCHOOL': '57.6%', 'HUGHSON HIGH SCHOOL': '41.9%', 'MODESTO HIGH SCHOOL': '77.0%', 'OAKDALE HIGH SCHOOL': '30.5%', 'ORESTIMBA HIGH SCHOOL': '64.8%', 'PATTERSON HIGH SCHOOL': '68.8%', 'RIVERBANK HIGH SCHOOL': '76.2%', 'THOMAS DOWNEY HIGH SCHOOL': '70.8%', 'TURLOCK HIGH SCHOOL': '57.1%', 'WATERFORD HIGH SCHOOL': '63.3%'}, 'Sutter': {'LIVE OAK HIGH SCHOOL': '72.7%', 'RIVER VALLEY HIGH SCHOOL': '60.0%', 'SUTTER HIGH SCHOOL': '25.5%', 'YUBA CITY HIGH SCHOOL': '60.1%'}, 'Tehama': {'RED BLUFF HIGH SCHOOL': '57.8%'}, 'Trinity': {'TRINITY HIGH SCHOOL': '51.5%'}, 'Tulare': {'DINUBA HIGH SCHOOL': '74.9%', 'EL DIAMANTE HIGH SCHOOL': '55.3%', 'EXETER UNION HIGH SCHOOL': '53.6%', 'FARMERSVILLE HIGH SCHOOL': '86.3%', 'GOLDEN WEST HIGH SCHOOL': '63.4%', 'GRANITE HILLS HIGH SCHOOL': '87.8%', 'HARMONY MAGNET ACADEMY': '64.1%', 'MISSION OAK HIGH SCHOOL': '67.4%', 'MONACHE HIGH SCHOOL': '69.1%', 'OROSI HIGH SCHOOL': '92.7%', 'PORTERVILLE HIGH SCHOOL': '75.9%', 'REDWOOD HIGH SCHOOL': '47.1%', 'STRATHMORE HIGH SCHOOL': '83.8%', 'TULARE UNION HIGH SCHOOL': '70.1%', 'TULARE WESTERN HIGH SCHOOL': '74.8%', 'WOODLAKE HIGH SCHOOL': '83.3%'}, 'Tuolumne': {'SONORA HIGH SCHOOL': '38.3%'}, 'Ventura': {'ADOLFO CAMARILLO HIGH SCHOOL': '30.6%', 'BUENA HIGH SCHOOL': '51.7%', 'CHANNEL ISLANDS HIGH SCHOOL': '80.9%', 'FOOTHILL TECHNOLOGY HS': '25.3%', 'HUENEME HIGH SCHOOL': '84.9%', 'MOORPARK HIGH SCHOOL': '26.2%', 'NEWBURY PARK HIGH SCHOOL': '16.2%', 'NORDHOFF HIGH SCHOOL': '38.1%', 'OAK PARK HIGH SCHOOL': '4.7%', 'OAK PARK INDEPENDENT SCH': '4.7%', 'OXNARD HIGH SCHOOL': '61.4%', 'PACIFICA HIGH SCHOOL': '79.3%', 'RIO MESA HIGH SCHOOL': '60.5%', 'ROYAL HIGH SCHOOL': '31.9%', 'SANTA PAULA HIGH SCHOOL': '74.6%', 'SANTA SUSANA HIGH SCHOOL': '20.4%', 'SIMI VALLEY HIGH SCHOOL': '24.4%', 'THOUSAND OAKS HIGH SCHOOL': '20.1%', 'VENTURA HIGH SCHOOL': '50.1%', 'WESTLAKE HIGH SCHOOL': '16.1%'}, 'Yolo': {'DA VINCI CHARTER ACADEMY': '11.3%', 'DAVIS SENIOR HIGH SCHOOL': '16.8%', 'ESPARTO HIGH SCHOOL': '62.5%', 'PIONEER HIGH SCHOOL': '54.3%', 'RIVER CITY HIGH SCHOOL': '63.6%', 'WINTERS HIGH SCHOOL': '58.6%'}, 'Yuba': {'LINDHURST HIGH SCHOOL': '85.6%', 'MARYSVILLE CHARTER ACAD ARTS': '50.4%', 'MARYSVILLE HIGH SCHOOL': '65.8%'}}\n"
     ]
    }
   ],
   "source": [
    "listofcounties = []\n",
    "mydict = {}\n",
    "for item, group in counties:\n",
    "    listofcounties.append(item)\n",
    "\n",
    "for county in listofcounties:\n",
    "    df1 = counties.get_group(county)\n",
    "    df2 = counties2.get_group(county)\n",
    "    for item in df1.school:\n",
    "        if county in mydict:\n",
    "            pass\n",
    "        else:\n",
    "            mydict[county] = {}\n",
    "        for item2 in df2.school:\n",
    "            if item.lower().split()[:2] == item2.lower().split()[:2]:\n",
    "                for second in df2[df2.school == item2].eligible2:\n",
    "                    mydict[county][item] = second\n",
    "                \n",
    "\n",
    "\n",
    "print(mydict)"
   ]
  },
  {
   "cell_type": "code",
   "execution_count": 11,
   "metadata": {},
   "outputs": [
    {
     "name": "stdout",
     "output_type": "stream",
     "text": [
      "56\n"
     ]
    }
   ],
   "source": [
    "print(len(mydict))"
   ]
  },
  {
   "cell_type": "code",
   "execution_count": 12,
   "metadata": {},
   "outputs": [
    {
     "name": "stdout",
     "output_type": "stream",
     "text": [
      "923\n",
      "923\n",
      "923\n",
      "923\n",
      "56\n",
      "[41, 2, 6, 2, 2, 26, 1, 6, 28, 2, 6, 6, 1, 24, 6, 5, 1, 209, 7, 8, 1, 6, 13, 1, 1, 15, 4, 2, 65, 12, 52, 35, 2, 49, 73, 6, 16, 10, 21, 9, 39, 9, 4, 1, 2, 7, 15, 12, 4, 1, 1, 16, 1, 20, 6, 3]\n"
     ]
    }
   ],
   "source": [
    "highschools = []\n",
    "temp = []\n",
    "percents = []\n",
    "temp2 = []\n",
    "lengths = []\n",
    "for county in mydict:\n",
    "    lengths.append(len(mydict[county]))\n",
    "    for school in mydict[county]:\n",
    "        highschools.append(school)\n",
    "        percents.append(mydict[county][school])\n",
    "        asdf = enrolled[enrolled.school == school]\n",
    "        ghj = asdf[asdf.county == county]\n",
    "        temp.append(ghj.number)\n",
    "        temp2.append(ghj.city)\n",
    "        \n",
    "print(len(highschools))\n",
    "print(len(percents))\n",
    "print(len(temp))\n",
    "print(len(temp2))\n",
    "print(len(lengths))\n",
    "print(lengths)"
   ]
  },
  {
   "cell_type": "code",
   "execution_count": 13,
   "metadata": {},
   "outputs": [
    {
     "name": "stdout",
     "output_type": "stream",
     "text": [
      "['Alameda, CA', 'Albany, CA', 'Oakland, CA', 'Pleasanton, CA', 'Fremont, CA', 'Oakland, CA', 'Oakland, CA', 'San Lorenzo, CA', 'Berkeley, CA', 'Oakland, CA', 'Castro Valley, CA', 'Dublin, CA', 'Emeryville, CA', 'Pleasanton, CA', 'Oakland, CA', 'Livermore, CA', 'Hayward, CA', 'Fremont, CA', 'Union City, CA', 'San Lorenzo, CA', 'Hayward, CA', 'Oakland, CA', 'Livermore, CA', 'Livermore, CA', 'Oakland, CA', 'Oakland, CA', 'Oakland, CA', 'Fremont, CA', 'Newark, CA', 'Oakland, CA', 'Oakland, CA', 'Oakland, CA', 'Oakland, CA', 'Piedmont, CA', 'Berkeley, CA', 'San Leandro, CA', 'San Lorenzo, CA', 'Hayward, CA', 'Oakland, CA', 'Hayward, CA', 'Fremont, CA', 'Sutter Creek, CA', 'Jackson, CA', 'Durham, CA', 'Gridley, CA', 'Chico, CA', 'Oroville, CA', 'Oroville, CA', 'Chico, CA', 'Altaville, CA', 'San Andreas, CA', 'Colusa, CA', 'Arbuckle, CA', 'Lafayette, CA', 'Antioch, CA', 'San Ramon, CA', 'Moraga, CA', 'Concord, CA', 'Pleasant Hill, CA', 'Concord, CA', 'Richmond, CA', 'Antioch, CA', 'San Ramon, CA', 'El Cerrito, CA', 'Oakley, CA', 'Hercules, CA', 'Brentwood, CA', 'Crockett, CA', 'Walnut Creek, CA', 'Richmond, CA', 'Brentwood, CA', 'San Pablo, CA', 'Orinda, CA', 'Danville, CA', 'Walnut Creek, CA', 'Pinole, CA', 'Richmond, CA', 'Danville, CA', 'Concord, CA', 'Crescent City, CA', 'Placerville, CA', 'Garden Valley, CA', 'El Dorado Hills, CA', 'Shingle Springs, CA', 'South Lake Tahoe, CA', 'El Dorado, CA', 'Fresno, CA', 'Caruthers, CA', 'Fresno, CA', 'Clovis, CA', 'Clovis, CA', 'Fresno, CA', 'Fresno, CA', 'Coalinga, CA', 'Fresno, CA', 'Firebaugh, CA', 'Fowler, CA', 'Fresno, CA', 'Fresno, CA', 'Kerman, CA', 'Kingsburg, CA', 'Fresno, CA', 'Mendota, CA', 'Orange Cove, CA', 'Parlier, CA', 'Reedley, CA', 'Reedley, CA', 'Riverdale, CA', 'Sanger, CA', 'Selma, CA', 'Tollhouse, CA', 'Fresno, CA', 'Tranquillity, CA', 'Fresno, CA', 'Orland, CA', 'Willows, CA', 'Arcata, CA', 'Eureka, CA', 'Fortuna, CA', 'Hoopa, CA', 'Mckinleyville, CA', 'Miranda, CA', 'Calexico, CA', 'Calipatria, CA', 'El Centro, CA', 'Holtville, CA', 'Imperial, CA', 'El Centro, CA', 'Bishop, CA', 'Arvin, CA', 'Bakersfield, CA', 'California City, CA', 'Bakersfield, CA', 'Delano, CA', 'Bakersfield, CA', 'Bakersfield, CA', 'Bakersfield, CA', 'Bakersfield, CA', 'Bakersfield, CA', 'Bakersfield, CA', 'Lake Isabella, CA', 'Bakersfield, CA', 'Mcfarland, CA', 'Bakersfield, CA', 'Bakersfield, CA', 'Bakersfield, CA', 'Rosamond, CA', 'Shafter, CA', 'Bakersfield, CA', 'Bakersfield, CA', 'Taft, CA', 'Tehachapi, CA', 'Bakersfield, CA', 'Avenal, CA', 'Corcoran, CA', 'Hanford, CA', 'Hanford, CA', 'Lemoore, CA', 'Hanford, CA', 'Lakeport, CA', 'Kelseyville, CA', 'Lower Lake, CA', 'Middletown, CA', 'Upper Lake, CA', 'Susanville, CA', 'Los Angeles, CA', 'Carson, CA', 'San Fernando, CA', 'Santa Clarita, CA', 'Agoura Hills, CA', 'Los Angeles, CA', 'Valencia, CA', 'Los Angeles, CA', 'Alhambra, CA', 'Huntington Park, CA', 'Los Angeles, CA', 'Los Angeles, CA', 'Los Angeles, CA', 'Los Angeles, CA', 'Los Angeles, CA', 'Los Angeles, CA', 'Los Angeles, CA', 'Los Angeles, CA', 'Los Angeles, CA', 'Inglewood, CA', 'Los Angeles, CA', 'Inglewood, CA', 'Los Angeles, CA', 'Los Angeles, CA', 'Venice, CA', 'Los Angeles, CA', 'Lancaster, CA', 'Los Angeles, CA', 'Montebello, CA', 'Arcadia, CA', 'Arleta, CA', 'El Monte, CA', 'Lakewood, CA', 'Azusa, CA', 'Baldwin Park, CA', 'Bell Gardens, CA', 'Bellflower, CA', 'Beverly Hills, CA', 'Lake Balboa, CA', 'La Verne, CA', 'Los Angeles, CA', 'Calabasas, CA', 'Whittier, CA', 'Los Angeles, CA', 'Los Angeles, CA', 'Canoga Park, CA', 'Canyon Country, CA', 'Compton, CA', 'Los Angeles, CA', 'Cerritos, CA', 'Covina, CA', 'Inglewood, CA', 'Claremont, CA', 'Covina, CA', 'La Crescenta, CA', 'Culver City, CA', 'Hawthorne, CA', 'Hawthorne, CA', 'Hawthorne, CA', 'Van Nuys, CA', 'Los Angeles, CA', 'Diamond Bar, CA', 'Pomona, CA', 'Sylmar, CA', 'Downey, CA', 'Duarte, CA', 'Los Angeles, CA', 'Los Angeles, CA', 'North Hollywood, CA', 'Lancaster, CA', 'West Covina, CA', 'Woodland Hills, CA', 'El Monte, CA', 'Pico Rivera, CA', 'El Segundo, CA', 'Lawndale, CA', 'Gardena, CA', 'San Gabriel, CA', 'Pomona, CA', 'Pomona, CA', 'Los Angeles, CA', 'Covina, CA', 'Glendale, CA', 'Glendora, CA', 'Santa Clarita, CA', 'Granada Hills, CA', 'Los Angeles, CA', 'Wilmington, CA', 'Hawthorne, CA', 'Hawthorne, CA', 'Hollywood, CA', 'Glendale, CA', 'Van Nuys, CA', 'Palmdale, CA', 'Los Angeles, CA', 'Harbor City, CA', 'Huntington Park, CA', 'Huntington Park, CA', 'Inglewood, CA', 'Pomona, CA', 'North Hills, CA', 'Pasadena, CA', 'Los Angeles, CA', 'Pasadena, CA', 'La Canada, CA', 'La Mirada, CA', 'La Puente, CA', 'Whittier, CA', 'Lakewood, CA', 'Lancaster, CA', 'Lawndale, CA', 'Lawndale, CA', 'Littlerock, CA', 'Hacienda Heights, CA', 'Los Angeles, CA', 'Los Angeles, CA', 'Los Angeles, CA', 'Los Angeles, CA', 'Los Angeles, CA', 'Los Angeles, CA', 'Los Angeles, CA', 'Los Angeles, CA', 'Lynwood, CA', 'Los Angeles, CA', 'Lynwood, CA', 'Alhambra, CA', 'Los Angeles, CA', 'Lakewood, CA', 'Maywood, CA', 'Los Angeles, CA', 'Manhattan Beach, CA', 'Monrovia, CA', 'Montebello, CA', 'Inglewood, CA', 'El Monte, CA', 'Los Angeles, CA', 'La Puente, CA', 'Torrance, CA', 'North Hollywood, CA', 'Northridge, CA', 'Covina, CA', 'Norwalk, CA', 'Burbank, CA', 'San Gabriel, CA', 'Los Angeles, CA', 'Pacific Palisade, CA', 'Palmdale, CA', 'Pomona, CA', 'Palos Verdes Estate, CA', 'Rolling Hills Estat, CA', 'Panorama City, CA', 'Paramount, CA', 'Pasadena, CA', 'Wilmington, CA', 'Whittier, CA', 'Pomona, CA', 'San Pedro, CA', 'Los Angeles, CA', 'San Fernando, CA', 'Quartz Hill, CA', 'Redondo Beach, CA', 'Rosemead, CA', 'San Dimas, CA', 'San Fernando, CA', 'San Gabriel, CA', 'San Marino, CA', 'San Pedro, CA', 'Santa Fe Springs, CA', 'Santa Monica, CA', 'Los Angeles, CA', 'Saugus, CA', 'Pomona, CA', 'Montebello, CA', 'Baldwin Park, CA', 'San Fernando, CA', 'Los Angeles, CA', 'South Gate, CA', 'South El Monte, CA', 'South Gate, CA', 'Torrance, CA', 'West Covina, CA', 'South Pasadena, CA', 'Hollywood, CA', 'Sun Valley, CA', 'Sun Valley, CA', 'Los Angeles, CA', 'Sylmar, CA', 'Los Angeles, CA', 'Temple City, CA', 'Los Angeles, CA', 'Los Angeles, CA', 'Torrance, CA', 'Los Angeles, CA', 'Valencia, CA', 'Granada Hills, CA', 'Panorama City, CA', 'Van Nuys, CA', 'Acton, CA', 'Tujunga, CA', 'Los Angeles, CA', 'Los Angeles, CA', 'Walnut, CA', 'Downey, CA', 'Los Angeles, CA', 'West Covina, CA', 'Torrance, CA', 'Valencia, CA', 'Whittier, CA', 'Long Beach, CA', 'Los Angeles, CA', 'Chowchilla, CA', 'Madera, CA', 'Madera, CA', 'Madera, CA', 'Oneals, CA', 'Oneals, CA', 'Oakhurst, CA', 'Novato, CA', 'Larkspur, CA', 'Novato, CA', 'San Rafael, CA', 'San Anselmo, CA', 'Mill Valley, CA', 'San Rafael, CA', 'Tomales, CA', 'Mariposa, CA', 'Boonville, CA', 'Fort Bragg, CA', 'Mendocino, CA', 'Ukiah, CA', 'Ukiah, CA', 'Willits, CA', 'Atwater, CA', 'Atwater, CA', 'Delhi, CA', 'Dos Palos, CA', 'Merced, CA', 'Merced, CA', 'Gustine, CA', 'Hilmar, CA', 'Le Grand, CA', 'Livingston, CA', 'Los Banos, CA', 'Merced, CA', 'Los Banos, CA', 'Alturas, CA', 'Mammoth Lakes, CA', 'Salinas, CA', 'Carmel, CA', 'Salinas, CA', 'Gonzales, CA', 'Greenfield, CA', 'King City, CA', 'Marina, CA', 'Salinas, CA', 'Monterey, CA', 'Castroville, CA', 'Salinas, CA', 'Pacific Grove, CA', 'Salinas, CA', 'Seaside, CA', 'Soledad, CA', 'American Canyon, CA', 'Napa, CA', 'Saint Helena, CA', 'Napa, CA', 'Grass Valley, CA', 'Grass Valley, CA', 'Aliso Viejo, CA', 'Anaheim, CA', 'Garden Grove, CA', 'Buena Park, CA', 'Anaheim, CA', 'Mission Viejo, CA', 'Santa Ana, CA', 'Newport Beach, CA', 'Costa Mesa, CA', 'Cypress, CA', 'Dana Point, CA', 'Huntington Beach, CA', 'Placentia, CA', 'Orange, CA', 'Lake Forest, CA', 'Anaheim, CA', 'Costa Mesa, CA', 'Santa Ana, CA', 'Fountain Valley, CA', 'Fullerton, CA', 'Garden Grove, CA', 'Huntington Beach, CA', 'Irvine, CA', 'Anaheim, CA', 'La Habra, CA', 'Westminster, CA', 'Laguna Beach, CA', 'Laguna Hills, CA', 'Anaheim, CA', 'Los Alamitos, CA', 'Fountain Valley, CA', 'Anaheim, CA', 'Huntington Beach, CA', 'Mission Viejo, CA', 'Newport Beach, CA', 'Irvine, CA', 'Santa Ana, CA', 'Huntington Beach, CA', 'Santa Ana, CA', 'Orange, CA', 'Cypress, CA', 'Garden Grove, CA', 'Garden Grove, CA', 'Santa Ana, CA', 'Santa Ana, CA', 'San Clemente, CA', 'San Juan Capistrano, CA', 'Santa Ana, CA', 'Garden Grove, CA', 'Anaheim, CA', 'Santa Ana, CA', 'La Habra, CA', 'Fullerton, CA', 'Rancho San Margarit, CA', 'Mission Viejo, CA', 'Fullerton, CA', 'Tustin, CA', 'Irvine, CA', 'Placentia, CA', 'Santa Ana, CA', 'Villa Park, CA', 'Anaheim, CA', 'Westminster, CA', 'Irvine, CA', 'Yorba Linda, CA', 'Colfax, CA', 'Loomis, CA', 'Granite Bay, CA', 'Lincoln, CA', 'Tahoe City, CA', 'Roseville, CA', 'Auburn, CA', 'Rocklin, CA', 'Roseville, CA', 'Truckee, CA', 'Rocklin, CA', 'Roseville, CA', 'Riverside, CA', 'Banning, CA', 'Moreno Valley, CA', 'Cathedral City, CA', 'Corona, CA', 'Temecula, CA', 'Perris, CA', 'Thermal, CA', 'Corona, CA', 'Desert Hot Springs, CA', 'Thermal, CA', 'Eastvale, CA', 'Wildomar, CA', 'Temecula, CA', 'Anza, CA', 'Hemet, CA', 'Menifee, CA', 'Riverside, CA', 'Indio, CA', 'Mira Loma, CA', 'La Quinta, CA', 'Riverside, CA', 'Lake Elsinore, CA', 'Riverside, CA', 'Moreno Valley, CA', 'Murrieta, CA', 'Murrieta, CA', 'Norco, CA', 'Riverside, CA', 'Nuevo, CA', 'Palm Desert, CA', 'Palm Springs, CA', 'Blythe, CA', 'Menifee, CA', 'Riverside, CA', 'Perris, CA', 'Riverside, CA', 'Rancho Mirage, CA', 'Moreno Valley, CA', 'Jurupa Valley, CA', 'San Jacinto, CA', 'San Jacinto, CA', 'Corona, CA', 'Indio, CA', 'Hemet, CA', 'Temecula, CA', 'Lake Elsinore, CA', 'Moreno Valley, CA', 'Moreno Valley, CA', 'Murrieta, CA', 'Salton City, CA', 'Hemet, CA', 'Fair Oaks, CA', 'Orangevale, CA', 'Antelope, CA', 'Rancho Cordova, CA', 'Elk Grove, CA', 'Fair Oaks, CA', 'Sacramento, CA', 'Elk Grove, CA', 'Sacramento, CA', 'Folsom, CA', 'Sacramento, CA', 'Elk Grove, CA', 'North Highlands, CA', 'Galt, CA', 'Sacramento, CA', 'North Highlands, CA', 'Sacramento, CA', 'Elk Grove, CA', 'Galt, CA', 'Sacramento, CA', 'Citrus Heights, CA', 'Sacramento, CA', 'Elk Grove, CA', 'Sacramento, CA', 'Sacramento, CA', 'Rancho Cordova, CA', 'Elk Grove, CA', 'Sacramento, CA', 'Rio Linda, CA', 'Sacramento, CA', 'Citrus Heights, CA', 'Sacramento, CA', 'Sacramento, CA', 'Folsom, CA', 'Sacramento, CA', 'San Juan Bautista, CA', 'Hollister, CA', 'Helendale, CA', 'Adelanto, CA', 'Alta Loma, CA', 'Apple Valley, CA', 'San Bernardino, CA', 'Barstow, CA', 'Big Bear Lake, CA', 'Bloomington, CA', 'San Bernardino, CA', 'Ontario, CA', 'Chino, CA', 'Chino Hills, CA', 'Redlands, CA', 'Victorville, CA', 'Ontario, CA', 'Colton, CA', 'Chino, CA', 'Etiwanda, CA', 'Victorville, CA', 'Fontana, CA', 'Grand Terrace, CA', 'Apple Valley, CA', 'Hesperia, CA', 'San Bernardino, CA', 'Fontana, CA', 'Rancho Cucamonga, CA', 'Lucerne Valley, CA', 'Montclair, CA', 'Oak Hills, CA', 'Ontario, CA', 'Victorville, CA', 'San Bernardino, CA', 'Rancho Cucamonga, CA', 'Redlands, CA', 'Rialto, CA', 'Lake Arrowhead, CA', 'San Bernardino, CA', 'San Bernardino, CA', 'Phelan, CA', 'Yermo, CA', 'Victorville, CA', 'Hesperia, CA', 'Fontana, CA', 'Twentynine Palms, CA', 'Victorville, CA', 'Upland, CA', 'Victorville, CA', 'Rialto, CA', 'Yucca Valley, CA', 'Chula Vista, CA', 'San Diego, CA', 'Carlsbad, CA', 'Chula Vista, CA', 'San Diego, CA', 'Chula Vista, CA', 'Chula Vista, CA', 'San Diego, CA', 'Escondido, CA', 'Coronado, CA', 'San Diego, CA', 'Escondido, CA', 'San Diego, CA', 'San Diego, CA', 'Chula Vista, CA', 'El Cajon, CA', 'Oceanside, CA', 'Lakeside, CA', 'Escondido, CA', 'Escondido, CA', 'El Cajon, CA', 'La Mesa, CA', 'San Diego, CA', 'La Mesa, CA', 'Chula Vista, CA', 'San Diego, CA', 'San Diego, CA', 'San Diego, CA', 'San Marcos, CA', 'San Diego, CA', 'San Diego, CA', 'San Diego, CA', 'Carlsbad, CA', 'La Jolla, CA', 'San Diego, CA', 'Imperial Beach, CA', 'San Diego, CA', 'San Diego, CA', 'San Marcos, CA', 'Spring Valley, CA', 'Spring Valley, CA', 'Pine Valley, CA', 'Oceanside, CA', 'Chula Vista, CA', 'Escondido, CA', 'Chula Vista, CA', 'San Diego, CA', 'Poway, CA', 'Ramona, CA', 'San Diego, CA', 'Vista, CA', 'Lakeside, CA', 'Carlsbad, CA', 'San Diego, CA', 'San Diego, CA', 'San Diego, CA', 'San Diego, CA', 'San Diego, CA', 'Encinitas, CA', 'San Marcos, CA', 'Escondido, CA', 'San Diego, CA', 'Santee, CA', 'San Diego, CA', 'San Diego, CA', 'Spring Valley, CA', 'San Diego, CA', 'San Diego, CA', 'El Cajon, CA', 'Valley Center, CA', 'Vista, CA', 'Santee, CA', 'San Diego, CA', 'San Francisco, CA', 'San Francisco, CA', 'San Francisco, CA', 'San Francisco, CA', 'San Francisco, CA', 'San Francisco, CA', 'Stockton, CA', 'Stockton, CA', 'Manteca, CA', 'Escalon, CA', 'Stockton, CA', 'Lathrop, CA', 'Stockton, CA', 'Linden, CA', 'Lodi, CA', 'Manteca, CA', 'Stockton, CA', 'Mountain House, CA', 'Ripon, CA', 'Manteca, CA', 'Lodi, CA', 'Stockton, CA', 'Arroyo Grande, CA', 'Arroyo Grande, CA', 'Atascadero, CA', 'Nipomo, CA', 'Cambria, CA', 'Morro Bay, CA', 'Nipomo, CA', 'Paso Robles, CA', 'San Luis Obispo, CA', 'Templeton, CA', 'San Mateo, CA', 'Burlingame, CA', 'San Bruno, CA', 'Belmont, CA', 'East Palo Alto, CA', 'East Palo Alto, CA', 'South San Francisco, CA', 'Redwood City, CA', 'Half Moon Bay, CA', 'San Mateo, CA', 'Daly City, CA', 'Millbrae, CA', 'Pescadero, CA', 'San Mateo, CA', 'Redwood City, CA', 'South San Francisco, CA', 'Redwood City, CA', 'Daly City, CA', 'Pacifica, CA', 'Daly City, CA', 'Woodside, CA', 'Lompoc, CA', 'Goleta, CA', 'Santa Maria, CA', 'Lompoc, CA', 'Santa Maria, CA', 'Santa Barbara, CA', 'Santa Barbara, CA', 'Santa Maria, CA', 'Santa Ynez, CA', 'San Jose, CA', 'San Jose, CA', 'Morgan Hill, CA', 'San Jose, CA', 'Gilroy, CA', 'Cupertino, CA', 'San Jose, CA', 'San Jose, CA', 'Sunnyvale, CA', 'Gilroy, CA', 'Cupertino, CA', 'San Jose, CA', 'San Jose, CA', 'San Jose, CA', 'San Jose, CA', 'San Jose, CA', 'San Jose, CA', 'Morgan Hill, CA', 'Los Altos, CA', 'Los Gatos, CA', 'San Jose, CA', 'Milpitas, CA', 'Cupertino, CA', 'Mountain View, CA', 'San Jose, CA', 'Palo Alto, CA', 'San Jose, CA', 'San Jose, CA', 'Saratoga, CA', 'San Jose, CA', 'Santa Clara, CA', 'San Jose, CA', 'Saratoga, CA', 'San Jose, CA', 'San Jose, CA', 'San Jose, CA', 'Campbell, CA', 'San Jose, CA', 'San Jose, CA', 'Aptos, CA', 'Santa Cruz, CA', 'Santa Cruz, CA', 'Watsonville, CA', 'Felton, CA', 'Santa Cruz, CA', 'Scotts Valley, CA', 'Soquel, CA', 'Watsonville, CA', 'Redding, CA', 'Palo Cedro, CA', 'Redding, CA', 'Cottonwood, CA', 'Loyalton, CA', 'Happy Camp, CA', 'Yreka, CA', 'Fairfield, CA', 'Fairfield, CA', 'Benicia, CA', 'Dixon, CA', 'Fairfield, CA', 'Vacaville, CA', 'Fairfield, CA', 'Sebastopol, CA', 'Petaluma, CA', 'Cloverdale, CA', 'Rohnert Park, CA', 'Forestville, CA', 'Santa Rosa, CA', 'Healdsburg, CA', 'Santa Rosa, CA', 'Santa Rosa, CA', 'Petaluma, CA', 'Santa Rosa, CA', 'Rohnert Park, CA', 'Santa Rosa, CA', 'Sonoma, CA', 'Windsor, CA', 'Ceres, CA', 'Ceres, CA', 'Denair, CA', 'Hughson, CA', 'Modesto, CA', 'Oakdale, CA', 'Newman, CA', 'Patterson, CA', 'Riverbank, CA', 'Modesto, CA', 'Turlock, CA', 'Waterford, CA', 'Live Oak, CA', 'Yuba City, CA', 'Sutter, CA', 'Yuba City, CA', 'Red Bluff, CA', 'Weaverville, CA', 'Dinuba, CA', 'Visalia, CA', 'Exeter, CA', 'Farmersville, CA', 'Visalia, CA', 'Porterville, CA', 'Porterville, CA', 'Tulare, CA', 'Porterville, CA', 'Orosi, CA', 'Porterville, CA', 'Visalia, CA', 'Porterville, CA', 'Tulare, CA', 'Tulare, CA', 'Woodlake, CA', 'Sonora, CA', 'Camarillo, CA', 'Ventura, CA', 'Oxnard, CA', 'Ventura, CA', 'Oxnard, CA', 'Moorpark, CA', 'Newbury Park, CA', 'Ojai, CA', 'Oak Park, CA', 'Oak Park, CA', 'Oxnard, CA', 'Oxnard, CA', 'Oxnard, CA', 'Simi Valley, CA', 'Santa Paula, CA', 'Simi Valley, CA', 'Simi Valley, CA', 'Thousand Oaks, CA', 'Ventura, CA', 'Westlake Village, CA', 'Davis, CA', 'Davis, CA', 'Esparto, CA', 'Woodland, CA', 'West Sacramento, CA', 'Winters, CA', 'Olivehurst, CA', 'Marysville, CA', 'Marysville, CA']\n"
     ]
    }
   ],
   "source": [
    "cities = []\n",
    "for item in temp2:\n",
    "    for second in item:\n",
    "        second = second + ', CA'\n",
    "        cities.append(second)\n",
    "print(cities)"
   ]
  },
  {
   "cell_type": "code",
   "execution_count": 14,
   "metadata": {},
   "outputs": [
    {
     "name": "stdout",
     "output_type": "stream",
     "text": [
      "[107.0, 57.0, nan, 106.0, 113.0, 15.0, 5.0, 31.0, 133.0, 3.0, 83.0, 73.0, nan, 87.0, 6.0, 39.0, 25.0, 126.0, 77.0, 30.0, 19.0, 14.0, 25.0, 9.0, 12.0, 3.0, 3.0, 187.0, 11.0, 23.0, 30.0, 85.0, 9.0, 24.0, 7.0, 32.0, 25.0, nan, 44.0, 17.0, 55.0, 8.0, 4.0, nan, nan, 4.0, nan, 4.0, 18.0, 7.0, 7.0, nan, 3.0, 38.0, 18.0, 84.0, 62.0, 36.0, 38.0, 23.0, 21.0, 30.0, 166.0, 45.0, 26.0, 37.0, 46.0, 7.0, 48.0, 22.0, 24.0, 17.0, 45.0, 71.0, 53.0, 27.0, 23.0, 62.0, 9.0, 3.0, 7.0, 5.0, 48.0, 25.0, 15.0, 17.0, 21.0, 5.0, 23.0, 27.0, 14.0, 24.0, 27.0, 7.0, 47.0, 5.0, 8.0, 15.0, 20.0, 19.0, 9.0, 5.0, 5.0, nan, 8.0, 19.0, 4.0, 7.0, 27.0, 18.0, 3.0, 25.0, 3.0, 23.0, 5.0, nan, 17.0, 9.0, 11.0, nan, 6.0, 4.0, 34.0, 5.0, 30.0, 6.0, 18.0, 36.0, 3.0, 18.0, 14.0, nan, 26.0, 6.0, 13.0, 11.0, 15.0, 18.0, 16.0, 17.0, nan, 16.0, 6.0, 18.0, 10.0, 37.0, 8.0, 13.0, 34.0, 56.0, 4.0, 7.0, 4.0, 7.0, 6.0, 10.0, 7.0, 3.0, 6.0, 6.0, 4.0, 7.0, nan, 3.0, 5.0, 33.0, 10.0, 7.0, 25.0, 63.0, 11.0, 19.0, 85.0, 64.0, 20.0, 28.0, 20.0, 9.0, 22.0, 11.0, 16.0, 7.0, 8.0, 4.0, 9.0, 23.0, 36.0, 13.0, 10.0, 4.0, 11.0, 20.0, 5.0, 6.0, 200.0, 16.0, 74.0, 22.0, 8.0, 31.0, 40.0, 12.0, 42.0, 32.0, 38.0, 18.0, 58.0, 36.0, 14.0, 4.0, 8.0, 30.0, 7.0, 16.0, 74.0, 20.0, 5.0, 67.0, 29.0, 92.0, 71.0, 8.0, 14.0, 20.0, 11.0, nan, 208.0, 60.0, 7.0, 56.0, 13.0, 35.0, nan, nan, 26.0, 14.0, 75.0, 38.0, 35.0, 26.0, 28.0, nan, 106.0, 25.0, 14.0, 11.0, 10.0, 28.0, 50.0, 35.0, 128.0, 4.0, 32.0, 18.0, 29.0, nan, 17.0, 9.0, 38.0, 3.0, 4.0, 34.0, 16.0, 10.0, 8.0, 17.0, 28.0, 75.0, 15.0, 53.0, 24.0, 13.0, 49.0, 45.0, 16.0, 39.0, 40.0, 8.0, 25.0, 7.0, 9.0, 8.0, 3.0, nan, nan, 4.0, 13.0, 24.0, 22.0, 30.0, 81.0, 13.0, 25.0, 15.0, 23.0, 100.0, 31.0, 31.0, 12.0, 7.0, nan, 35.0, 43.0, 71.0, 10.0, 15.0, 26.0, nan, 3.0, 15.0, 78.0, 8.0, 13.0, 44.0, 119.0, 9.0, 42.0, 42.0, 12.0, 19.0, 18.0, 12.0, 19.0, 3.0, 32.0, 66.0, 57.0, 23.0, 36.0, 107.0, 44.0, 33.0, 37.0, 95.0, 17.0, 20.0, 6.0, 31.0, 32.0, 21.0, 3.0, 28.0, 10.0, 32.0, 63.0, 37.0, 56.0, 16.0, 5.0, 4.0, 15.0, 5.0, 17.0, 124.0, 30.0, 8.0, 49.0, 22.0, 72.0, 19.0, 5.0, 40.0, nan, 25.0, 4.0, 12.0, 164.0, 59.0, 11.0, 45.0, 61.0, 65.0, 26.0, 55.0, 32.0, 16.0, 4.0, 14.0, 29.0, 3.0, 3.0, 8.0, 22.0, 60.0, 20.0, 17.0, 29.0, 48.0, 21.0, nan, 8.0, 4.0, 3.0, 7.0, 6.0, 14.0, nan, 35.0, 38.0, 18.0, 6.0, 40.0, 35.0, 13.0, 3.0, 13.0, 30.0, 12.0, 35.0, 14.0, nan, 4.0, 39.0, 21.0, 31.0, 5.0, 8.0, 8.0, 10.0, nan, 23.0, 17.0, 26.0, 9.0, 23.0, 6.0, 27.0, 27.0, 41.0, 7.0, 19.0, 5.0, 21.0, 83.0, 19.0, 37.0, 19.0, 79.0, 45.0, 21.0, 52.0, 8.0, 72.0, 55.0, 50.0, 23.0, 25.0, 38.0, 25.0, 16.0, 61.0, 115.0, 27.0, 67.0, 63.0, 67.0, 23.0, 23.0, 112.0, 25.0, 29.0, 23.0, 81.0, 23.0, 21.0, 55.0, 37.0, 51.0, 102.0, 10.0, 16.0, 47.0, 9.0, 70.0, 38.0, 32.0, 17.0, 14.0, 60.0, 42.0, 21.0, 54.0, 11.0, 52.0, 22.0, 94.0, 48.0, 33.0, 137.0, 44.0, 121.0, 79.0, 31.0, 51.0, 25.0, 38.0, 78.0, 49.0, 5.0, 20.0, 63.0, 16.0, 11.0, 30.0, 15.0, 38.0, 34.0, 17.0, 20.0, 32.0, 39.0, 14.0, 50.0, 22.0, 105.0, 73.0, 57.0, 21.0, 48.0, 22.0, 24.0, 102.0, 29.0, 114.0, nan, 42.0, 36.0, 50.0, 31.0, 35.0, 38.0, 27.0, 27.0, 86.0, 61.0, 39.0, 39.0, 23.0, 50.0, 15.0, 32.0, 27.0, 6.0, 41.0, 36.0, 22.0, 31.0, 16.0, 69.0, 26.0, 41.0, 5.0, 110.0, 29.0, 16.0, 53.0, 24.0, 40.0, 35.0, 59.0, 7.0, 15.0, 22.0, 11.0, 13.0, 16.0, 66.0, 17.0, 11.0, 30.0, 25.0, 39.0, 6.0, 105.0, nan, 9.0, nan, 9.0, 41.0, 30.0, 7.0, 23.0, 6.0, 59.0, 43.0, 13.0, 9.0, nan, 47.0, 22.0, 6.0, 16.0, nan, 41.0, 30.0, 32.0, 21.0, 3.0, 31.0, 4.0, 10.0, 40.0, 14.0, 30.0, 13.0, 7.0, 32.0, 60.0, 34.0, 37.0, 113.0, 42.0, 14.0, 47.0, 19.0, 15.0, 76.0, 4.0, 31.0, 33.0, 13.0, 21.0, 18.0, 36.0, 107.0, nan, 56.0, 32.0, 43.0, nan, 7.0, 114.0, 39.0, 55.0, 13.0, 10.0, 19.0, 25.0, nan, 18.0, 23.0, 54.0, 6.0, 49.0, 53.0, 23.0, 28.0, 5.0, 38.0, 99.0, 51.0, 23.0, nan, 12.0, 26.0, 13.0, 10.0, 26.0, 19.0, 22.0, 98.0, 3.0, 100.0, 7.0, 48.0, 10.0, 9.0, 29.0, 16.0, 22.0, 22.0, 58.0, 25.0, 24.0, 24.0, 30.0, 18.0, 8.0, 3.0, nan, 54.0, 58.0, 36.0, 17.0, 48.0, 17.0, 53.0, 8.0, 9.0, nan, 24.0, 99.0, 30.0, 63.0, 44.0, 52.0, 18.0, 68.0, 25.0, 3.0, 40.0, 4.0, 32.0, 4.0, 11.0, 15.0, 69.0, 58.0, 39.0, 33.0, 18.0, 86.0, 35.0, 33.0, 134.0, 69.0, 29.0, 11.0, 29.0, 18.0, 116.0, 65.0, 6.0, 25.0, 18.0, 4.0, 250.0, 8.0, 12.0, 13.0, 7.0, 13.0, 15.0, 29.0, 4.0, 15.0, 22.0, 19.0, 18.0, 9.0, 19.0, 20.0, 13.0, nan, 21.0, 7.0, nan, 3.0, 11.0, 10.0, 12.0, 27.0, 8.0, 45.0, 48.0, 30.0, 93.0, 5.0, 5.0, 29.0, 15.0, 24.0, 35.0, 18.0, 73.0, nan, 37.0, 31.0, 26.0, 18.0, 27.0, 14.0, 32.0, 29.0, 12.0, 61.0, 16.0, 8.0, 37.0, 51.0, 49.0, 12.0, 17.0, 33.0, 4.0, 27.0, 32.0, 21.0, 151.0, 19.0, 127.0, 34.0, 14.0, 102.0, 63.0, 15.0, 34.0, 14.0, 45.0, 90.0, 10.0, 74.0, 69.0, 124.0, 89.0, 180.0, 68.0, 21.0, 69.0, 59.0, 40.0, 25.0, 16.0, 41.0, 61.0, 40.0, 48.0, 21.0, 11.0, 43.0, 38.0, 43.0, 20.0, 15.0, 15.0, 21.0, 16.0, 19.0, 23.0, 19.0, 26.0, 4.0, 5.0, 12.0, 15.0, nan, 3.0, 3.0, 26.0, 40.0, 35.0, 19.0, 13.0, 26.0, 24.0, 22.0, 20.0, 5.0, 3.0, 6.0, 5.0, 12.0, 29.0, 24.0, 18.0, 12.0, 6.0, 19.0, 20.0, 19.0, 23.0, 28.0, 3.0, 7.0, 41.0, 13.0, 11.0, 15.0, 6.0, 10.0, 29.0, 9.0, 10.0, 21.0, 4.0, 19.0, 5.0, 4.0, 12.0, 21.0, 8.0, 15.0, 5.0, 11.0, 8.0, 10.0, 22.0, 7.0, 10.0, 19.0, nan, 19.0, 7.0, 6.0, 6.0, 52.0, 21.0, 32.0, 24.0, 21.0, 23.0, 56.0, 12.0, 48.0, nan, 40.0, 25.0, 20.0, 13.0, 23.0, 34.0, 26.0, 51.0, 22.0, 100.0, 17.0, 106.0, 4.0, 36.0, 27.0, 7.0, 4.0, 7.0, 5.0]\n"
     ]
    }
   ],
   "source": [
    "numbers = []\n",
    "for item in temp:\n",
    "    for second in item:\n",
    "        numbers.append(second)\n",
    "        \n",
    "print(numbers)"
   ]
  },
  {
   "cell_type": "code",
   "execution_count": 15,
   "metadata": {},
   "outputs": [
    {
     "name": "stdout",
     "output_type": "stream",
     "text": [
      "[18.9, 18.2, 97.1, 5.1, 16.7, 69.2, 89.4, 50.7, 27.9, 82.9, 22.0, 8.4, 68.9, 5.6, 85.6, 16.0, 65.7, 12.0, 45.3, 62.8, 59.9, 79.2, 20.5, 15.6, 90.9, 88.7, 76.6, 3.6, 44.6, 80.0, 87.5, 44.8, 84.3, 1.2, 66.0, 57.7, 76.4, 50.0, 76.6, 76.3, 22.2, 34.3, 34.5, 32.0, 20.9, 27.0, 72.8, 78.1, 32.3, 37.4, 46.2, 54.0, 59.9, 2.0, 70.4, 5.5, 1.5, 17.9, 20.4, 47.1, 67.5, 54.9, 5.4, 47.1, 35.7, 40.6, 16.7, 55.0, 7.8, 83.2, 30.9, 50.2, 1.5, 2.4, 8.3, 59.0, 93.0, 2.0, 72.9, 52.8, 33.5, 44.3, 4.9, 16.1, 54.2, 29.2, 58.6, 87.2, 57.1, 49.7, 42.9, 18.4, 39.4, 72.1, 77.3, 83.3, 72.7, 89.9, 83.8, 77.5, 37.3, 95.8, 100.0, 96.1, 93.7, 77.8, 82.2, 80.9, 75.9, 71.9, 37.0, 90.4, 91.3, 9.9, 66.3, 50.2, 29.2, 47.9, 48.6, 99.2, 33.3, 41.6, 83.5, 79.3, 72.9, 64.8, 38.7, 69.1, 42.3, 87.5, 67.8, 72.0, 24.5, 90.2, 81.5, 82.8, 23.3, 81.8, 63.9, 54.8, 64.0, 20.9, 83.9, 90.5, 73.8, 70.1, 66.5, 80.7, 92.0, 32.3, 58.3, 30.8, 81.5, 85.9, 77.7, 62.2, 60.4, 20.0, 53.9, 48.1, 67.9, 61.6, 57.7, 73.4, 29.1, 92.9, 8.4, 8.4, 8.4, 6.1, 95.8, 4.3, 70.1, 69.7, 92.3, 95.9, 88.9, 95.4, 97.2, 89.0, 94.0, 93.4, 83.0, 95.9, 91.2, 96.1, 93.5, 97.2, 97.3, 85.5, 92.1, 82.4, 97.7, 76.3, 21.2, 82.0, 84.4, 74.2, 75.8, 84.0, 89.3, 74.7, 7.4, 85.3, 27.5, 91.8, 7.7, 73.8, 97.4, 97.4, 87.6, 33.2, 82.7, 90.4, 28.6, 49.6, 78.1, 31.9, 70.7, 17.4, 33.9, 45.4, 45.4, 45.4, 60.1, 85.4, 10.2, 57.6, 93.0, 65.1, 66.5, 63.2, 87.8, 85.3, 80.6, 58.7, 25.6, 94.3, 71.2, 12.2, 81.4, 82.9, 53.1, 88.3, 87.4, 81.4, 74.4, 67.7, 21.7, 43.3, 47.5, 93.7, 67.0, 81.4, 76.4, 91.3, 63.2, 45.5, 61.3, 92.6, 87.1, 87.3, 87.3, 69.6, 29.3, 85.7, 76.4, 76.4, 75.9, 1.6, 46.3, 85.0, 46.9, 58.2, 62.8, 79.4, 84.6, 83.4, 64.0, 92.3, 92.3, 92.3, 92.3, 92.3, 92.3, 92.3, 92.3, 92.6, 87.2, 88.8, 52.7, 93.4, 52.0, 89.1, 82.0, 4.7, 51.8, 84.8, 80.8, 93.7, 98.0, 81.2, 39.1, 75.9, 72.8, 69.3, 82.0, 72.6, 72.6, 94.5, 29.5, 80.1, 86.9, 1.8, 1.8, 95.8, 92.3, 58.9, 87.4, 83.9, 85.2, 61.2, 76.6, 72.4, 36.4, 16.4, 82.3, 33.0, 93.2, 75.9, 3.3, 68.2, 73.2, 26.9, 88.7, 12.9, 68.1, 61.0, 85.2, 91.5, 91.5, 90.3, 90.3, 86.4, 14.6, 53.7, 15.3, 96.6, 84.6, 84.6, 85.8, 99.3, 98.1, 38.5, 96.5, 81.5, 29.1, 78.7, 10.6, 67.2, 86.8, 73.1, 34.8, 76.9, 77.2, 97.0, 14.4, 66.3, 85.3, 61.6, 18.3, 9.3, 73.3, 93.7, 59.1, 29.3, 76.3, 90.8, 29.2, 43.6, 40.6, 31.5, 5.0, 17.4, 58.3, 7.8, 7.5, 32.6, 62.6, 46.5, 71.9, 53.0, 23.3, 41.3, 61.1, 74.0, 77.9, 67.5, 79.4, 90.0, 68.7, 79.8, 65.0, 50.3, 76.2, 82.6, 59.5, 72.7, 78.5, 41.5, 50.6, 81.6, 12.0, 62.1, 83.4, 62.2, 71.5, 63.9, 21.0, 45.2, 79.4, 65.7, 16.7, 45.0, 69.1, 84.0, 36.9, 47.2, 9.4, 40.1, 25.4, 34.4, 12.4, 81.0, 70.9, 71.7, 10.6, 22.5, 95.2, 6.0, 61.9, 29.8, 21.3, 11.3, 20.9, 42.5, 23.4, 18.8, 70.6, 27.1, 26.1, 49.4, 61.0, 13.2, 19.4, 77.9, 44.5, 61.4, 6.9, 30.8, 75.4, 13.8, 81.6, 78.7, 18.9, 18.5, 32.5, 8.2, 85.9, 51.8, 82.0, 72.1, 34.1, 34.8, 68.9, 91.7, 68.4, 20.9, 25.0, 95.1, 77.2, 76.5, 83.9, 42.1, 27.9, 6.2, 13.1, 21.0, 68.3, 14.5, 54.1, 92.8, 28.3, 70.0, 76.2, 17.8, 9.5, 26.8, 11.2, 7.0, 29.0, 42.2, 20.2, 26.5, 11.8, 26.1, 27.7, 16.6, 13.7, 68.1, 82.6, 72.9, 83.7, 50.1, 24.6, 80.9, 81.9, 61.8, 88.4, 98.0, 37.3, 61.2, 14.1, 73.9, 67.7, 69.1, 56.8, 87.1, 73.0, 51.2, 73.5, 73.7, 30.9, 89.5, 28.6, 19.9, 38.5, 84.8, 63.9, 44.9, 71.1, 66.7, 54.3, 61.7, 87.5, 79.2, 69.2, 75.0, 77.4, 77.7, 77.7, 24.4, 66.4, 79.6, 23.0, 50.9, 72.2, 80.7, 25.0, 96.1, 81.6, 24.1, 33.5, 55.3, 64.7, 30.3, 45.8, 45.9, 38.3, 94.3, 13.4, 78.0, 34.7, 74.2, 69.1, 41.1, 80.2, 46.6, 45.5, 50.9, 89.2, 63.1, 49.0, 69.1, 63.9, 38.6, 72.1, 27.9, 19.9, 78.5, 70.4, 76.1, 56.5, 94.2, 6.6, 58.0, 56.3, 45.2, 59.3, 83.1, 52.3, 53.7, 80.6, 69.0, 60.7, 79.4, 73.2, 84.8, 63.4, 27.9, 51.0, 76.2, 71.1, 81.2, 67.4, 39.7, 51.6, 92.0, 66.1, 67.9, 76.1, 87.2, 79.2, 30.9, 77.5, 85.0, 58.7, 85.2, 82.3, 82.9, 40.5, 52.0, 80.5, 39.2, 86.6, 86.9, 63.3, 49.1, 81.0, 63.8, 65.8, 56.2, 71.5, 50.5, 85.5, 70.2, 61.3, 27.1, 2.6, 17.7, 71.1, 74.3, 70.7, 70.7, 55.9, 15.4, 5.5, 91.0, 52.7, 7.7, 66.2, 18.3, 89.8, 46.6, 49.4, 36.4, 69.5, 47.2, 51.4, 68.2, 60.7, 36.2, 36.2, 36.2, 36.2, 36.2, 73.5, 74.7, 69.4, 8.9, 27.7, 85.8, 55.8, 45.0, 66.2, 42.6, 73.4, 75.6, 68.1, 63.5, 22.9, 84.3, 26.6, 39.7, 17.6, 33.2, 12.0, 52.6, 6.4, 16.0, 91.0, 91.0, 91.0, 91.0, 91.0, 9.5, 32.4, 51.4, 71.1, 39.4, 17.5, 54.6, 26.0, 6.1, 39.7, 51.0, 44.9, 64.2, 32.3, 10.0, 66.1, 72.2, 41.5, 81.4, 66.2, 38.5, 57.8, 75.3, 48.0, 38.3, 81.3, 50.4, 52.0, 54.7, 48.7, 52.1, 46.8, 18.4, 30.1, 40.4, 62.5, 64.4, 35.2, 35.2, 30.4, 26.2, 53.2, 31.1, 57.9, 37.2, 23.2, 10.1, 16.3, 6.6, 26.0, 9.4, 88.4, 88.4, 22.4, 57.9, 34.8, 15.2, 53.1, 15.1, 60.2, 28.6, 37.7, 37.0, 49.1, 22.8, 18.9, 36.8, 32.7, 43.9, 32.2, 50.7, 72.1, 72.9, 40.9, 43.5, 82.3, 22.5, 56.0, 89.4, 29.4, 12.6, 40.3, 6.7, 42.2, 16.3, 32.2, 58.8, 13.3, 48.7, 82.0, 73.2, 82.3, 5.2, 9.0, 36.6, 15.7, 2.6, 4.2, 30.6, 1.7, 14.1, 48.7, 8.9, 27.6, 28.6, 21.7, 74.4, 37.8, 21.0, 0.7, 38.1, 43.5, 43.5, 18.0, 38.1, 76.3, 32.7, 55.0, 9.8, 86.2, 14.1, 29.8, 8.7, 32.3, 78.7, 43.8, 21.0, 32.1, 44.0, 28.4, 42.9, 43.9, 29.0, 56.8, 17.8, 44.1, 65.0, 32.7, 23.3, 17.3, 38.9, 45.9, 30.2, 31.2, 69.3, 45.0, 16.1, 31.2, 29.7, 54.4, 33.3, 33.3, 52.5, 28.5, 84.4, 79.6, 57.6, 41.9, 77.0, 30.5, 64.8, 68.8, 76.2, 70.8, 57.1, 63.3, 72.7, 60.0, 25.5, 60.1, 57.8, 51.5, 74.9, 55.3, 53.6, 86.3, 63.4, 87.8, 64.1, 67.4, 69.1, 92.7, 75.9, 47.1, 83.8, 70.1, 74.8, 83.3, 38.3, 30.6, 51.7, 80.9, 25.3, 84.9, 26.2, 16.2, 38.1, 4.7, 4.7, 61.4, 79.3, 60.5, 31.9, 74.6, 20.4, 24.4, 20.1, 50.1, 16.1, 11.3, 16.8, 62.5, 54.3, 63.6, 58.6, 85.6, 50.4, 65.8]\n"
     ]
    }
   ],
   "source": [
    "newpercents = []\n",
    "for item in percents:\n",
    "    item2 = item.replace('%', '')\n",
    "    item2 = float(item2)\n",
    "    newpercents.append(item2)\n",
    "print(newpercents)"
   ]
  },
  {
   "cell_type": "code",
   "execution_count": 16,
   "metadata": {},
   "outputs": [
    {
     "name": "stderr",
     "output_type": "stream",
     "text": [
      "/Users/academic/anaconda3/lib/python3.6/site-packages/pandas/io/parsers.py:678: UserWarning: Duplicate names specified. This will raise an error in the future.\n",
      "  return _read(filepath_or_buffer, kwds)\n"
     ]
    }
   ],
   "source": [
    "incomenames = ['', 'city', 'income','' ]\n",
    "incomedf = pd.read_csv('medianincome.csv',names=incomenames,header=0,usecols=[1,2])"
   ]
  },
  {
   "cell_type": "code",
   "execution_count": 17,
   "metadata": {},
   "outputs": [
    {
     "name": "stdout",
     "output_type": "stream",
     "text": [
      "924\n",
      "923\n",
      "923\n"
     ]
    }
   ],
   "source": [
    "incomes = []\n",
    "for city in cities:\n",
    "    newdf = incomedf[incomedf.city == city]\n",
    "    if newdf.empty:\n",
    "        incomes.append(np.nan)\n",
    "    else:\n",
    "        item = newdf.income\n",
    "        for second in item:\n",
    "            incomes.append(float(second))\n",
    "    \n",
    "incomes = incomes[:923]\n",
    "print(len(cities))\n",
    "print(len(incomes))\n",
    "print(len(newpercents))"
   ]
  },
  {
   "cell_type": "code",
   "execution_count": 18,
   "metadata": {},
   "outputs": [],
   "source": [
    "import math\n",
    "newnumbers = [0 if math.isnan(i) else i for i in numbers] "
   ]
  },
  {
   "cell_type": "code",
   "execution_count": 19,
   "metadata": {},
   "outputs": [
    {
     "name": "stdout",
     "output_type": "stream",
     "text": [
      "923\n"
     ]
    }
   ],
   "source": [
    "colors = [i for i in range(56)]\n",
    "len(colors)\n",
    "for i in range(56):\n",
    "    temp = [colors[i]]\n",
    "    for j in range(lengths[i] - 1):\n",
    "        temp.append(colors[i])\n",
    "    colors[i] = temp\n",
    "    \n",
    "flat_colors = [item for sublist in colors for item in sublist]\n",
    "   \n",
    "print(len(flat_colors))"
   ]
  },
  {
   "cell_type": "code",
   "execution_count": 20,
   "metadata": {},
   "outputs": [
    {
     "name": "stdout",
     "output_type": "stream",
     "text": [
      "['Alameda', 'Alameda', 'Alameda', 'Alameda', 'Alameda', 'Alameda', 'Alameda', 'Alameda', 'Alameda', 'Alameda', 'Alameda', 'Alameda', 'Alameda', 'Alameda', 'Alameda', 'Alameda', 'Alameda', 'Alameda', 'Alameda', 'Alameda', 'Alameda', 'Alameda', 'Alameda', 'Alameda', 'Alameda', 'Alameda', 'Alameda', 'Alameda', 'Alameda', 'Alameda', 'Alameda', 'Alameda', 'Alameda', 'Alameda', 'Alameda', 'Alameda', 'Alameda', 'Alameda', 'Alameda', 'Alameda', 'Alameda', 'Amador', 'Amador', 'Butte', 'Butte', 'Butte', 'Butte', 'Butte', 'Butte', 'Calaveras', 'Calaveras', 'Colusa', 'Colusa', 'Contra Costa', 'Contra Costa', 'Contra Costa', 'Contra Costa', 'Contra Costa', 'Contra Costa', 'Contra Costa', 'Contra Costa', 'Contra Costa', 'Contra Costa', 'Contra Costa', 'Contra Costa', 'Contra Costa', 'Contra Costa', 'Contra Costa', 'Contra Costa', 'Contra Costa', 'Contra Costa', 'Contra Costa', 'Contra Costa', 'Contra Costa', 'Contra Costa', 'Contra Costa', 'Contra Costa', 'Contra Costa', 'Contra Costa', 'Del Norte', 'El Dorado', 'El Dorado', 'El Dorado', 'El Dorado', 'El Dorado', 'El Dorado', 'Fresno', 'Fresno', 'Fresno', 'Fresno', 'Fresno', 'Fresno', 'Fresno', 'Fresno', 'Fresno', 'Fresno', 'Fresno', 'Fresno', 'Fresno', 'Fresno', 'Fresno', 'Fresno', 'Fresno', 'Fresno', 'Fresno', 'Fresno', 'Fresno', 'Fresno', 'Fresno', 'Fresno', 'Fresno', 'Fresno', 'Fresno', 'Fresno', 'Glenn', 'Glenn', 'Humboldt', 'Humboldt', 'Humboldt', 'Humboldt', 'Humboldt', 'Humboldt', 'Imperial', 'Imperial', 'Imperial', 'Imperial', 'Imperial', 'Imperial', 'Inyo', 'Kern', 'Kern', 'Kern', 'Kern', 'Kern', 'Kern', 'Kern', 'Kern', 'Kern', 'Kern', 'Kern', 'Kern', 'Kern', 'Kern', 'Kern', 'Kern', 'Kern', 'Kern', 'Kern', 'Kern', 'Kern', 'Kern', 'Kern', 'Kern', 'Kings', 'Kings', 'Kings', 'Kings', 'Kings', 'Kings', 'Lake', 'Lake', 'Lake', 'Lake', 'Lake', 'Lassen', 'Los Angeles', 'Los Angeles', 'Los Angeles', 'Los Angeles', 'Los Angeles', 'Los Angeles', 'Los Angeles', 'Los Angeles', 'Los Angeles', 'Los Angeles', 'Los Angeles', 'Los Angeles', 'Los Angeles', 'Los Angeles', 'Los Angeles', 'Los Angeles', 'Los Angeles', 'Los Angeles', 'Los Angeles', 'Los Angeles', 'Los Angeles', 'Los Angeles', 'Los Angeles', 'Los Angeles', 'Los Angeles', 'Los Angeles', 'Los Angeles', 'Los Angeles', 'Los Angeles', 'Los Angeles', 'Los Angeles', 'Los Angeles', 'Los Angeles', 'Los Angeles', 'Los Angeles', 'Los Angeles', 'Los Angeles', 'Los Angeles', 'Los Angeles', 'Los Angeles', 'Los Angeles', 'Los Angeles', 'Los Angeles', 'Los Angeles', 'Los Angeles', 'Los Angeles', 'Los Angeles', 'Los Angeles', 'Los Angeles', 'Los Angeles', 'Los Angeles', 'Los Angeles', 'Los Angeles', 'Los Angeles', 'Los Angeles', 'Los Angeles', 'Los Angeles', 'Los Angeles', 'Los Angeles', 'Los Angeles', 'Los Angeles', 'Los Angeles', 'Los Angeles', 'Los Angeles', 'Los Angeles', 'Los Angeles', 'Los Angeles', 'Los Angeles', 'Los Angeles', 'Los Angeles', 'Los Angeles', 'Los Angeles', 'Los Angeles', 'Los Angeles', 'Los Angeles', 'Los Angeles', 'Los Angeles', 'Los Angeles', 'Los Angeles', 'Los Angeles', 'Los Angeles', 'Los Angeles', 'Los Angeles', 'Los Angeles', 'Los Angeles', 'Los Angeles', 'Los Angeles', 'Los Angeles', 'Los Angeles', 'Los Angeles', 'Los Angeles', 'Los Angeles', 'Los Angeles', 'Los Angeles', 'Los Angeles', 'Los Angeles', 'Los Angeles', 'Los Angeles', 'Los Angeles', 'Los Angeles', 'Los Angeles', 'Los Angeles', 'Los Angeles', 'Los Angeles', 'Los Angeles', 'Los Angeles', 'Los Angeles', 'Los Angeles', 'Los Angeles', 'Los Angeles', 'Los Angeles', 'Los Angeles', 'Los Angeles', 'Los Angeles', 'Los Angeles', 'Los Angeles', 'Los Angeles', 'Los Angeles', 'Los Angeles', 'Los Angeles', 'Los Angeles', 'Los Angeles', 'Los Angeles', 'Los Angeles', 'Los Angeles', 'Los Angeles', 'Los Angeles', 'Los Angeles', 'Los Angeles', 'Los Angeles', 'Los Angeles', 'Los Angeles', 'Los Angeles', 'Los Angeles', 'Los Angeles', 'Los Angeles', 'Los Angeles', 'Los Angeles', 'Los Angeles', 'Los Angeles', 'Los Angeles', 'Los Angeles', 'Los Angeles', 'Los Angeles', 'Los Angeles', 'Los Angeles', 'Los Angeles', 'Los Angeles', 'Los Angeles', 'Los Angeles', 'Los Angeles', 'Los Angeles', 'Los Angeles', 'Los Angeles', 'Los Angeles', 'Los Angeles', 'Los Angeles', 'Los Angeles', 'Los Angeles', 'Los Angeles', 'Los Angeles', 'Los Angeles', 'Los Angeles', 'Los Angeles', 'Los Angeles', 'Los Angeles', 'Los Angeles', 'Los Angeles', 'Los Angeles', 'Los Angeles', 'Los Angeles', 'Los Angeles', 'Los Angeles', 'Los Angeles', 'Los Angeles', 'Los Angeles', 'Los Angeles', 'Los Angeles', 'Los Angeles', 'Los Angeles', 'Los Angeles', 'Los Angeles', 'Los Angeles', 'Los Angeles', 'Los Angeles', 'Los Angeles', 'Los Angeles', 'Los Angeles', 'Los Angeles', 'Los Angeles', 'Los Angeles', 'Los Angeles', 'Los Angeles', 'Los Angeles', 'Los Angeles', 'Los Angeles', 'Los Angeles', 'Los Angeles', 'Los Angeles', 'Los Angeles', 'Los Angeles', 'Los Angeles', 'Los Angeles', 'Los Angeles', 'Los Angeles', 'Los Angeles', 'Los Angeles', 'Los Angeles', 'Los Angeles', 'Madera', 'Madera', 'Madera', 'Madera', 'Madera', 'Madera', 'Madera', 'Marin', 'Marin', 'Marin', 'Marin', 'Marin', 'Marin', 'Marin', 'Marin', 'Mariposa', 'Mendocino', 'Mendocino', 'Mendocino', 'Mendocino', 'Mendocino', 'Mendocino', 'Merced', 'Merced', 'Merced', 'Merced', 'Merced', 'Merced', 'Merced', 'Merced', 'Merced', 'Merced', 'Merced', 'Merced', 'Merced', 'Modoc', 'Mono', 'Monterey', 'Monterey', 'Monterey', 'Monterey', 'Monterey', 'Monterey', 'Monterey', 'Monterey', 'Monterey', 'Monterey', 'Monterey', 'Monterey', 'Monterey', 'Monterey', 'Monterey', 'Napa', 'Napa', 'Napa', 'Napa', 'Nevada', 'Nevada', 'Orange', 'Orange', 'Orange', 'Orange', 'Orange', 'Orange', 'Orange', 'Orange', 'Orange', 'Orange', 'Orange', 'Orange', 'Orange', 'Orange', 'Orange', 'Orange', 'Orange', 'Orange', 'Orange', 'Orange', 'Orange', 'Orange', 'Orange', 'Orange', 'Orange', 'Orange', 'Orange', 'Orange', 'Orange', 'Orange', 'Orange', 'Orange', 'Orange', 'Orange', 'Orange', 'Orange', 'Orange', 'Orange', 'Orange', 'Orange', 'Orange', 'Orange', 'Orange', 'Orange', 'Orange', 'Orange', 'Orange', 'Orange', 'Orange', 'Orange', 'Orange', 'Orange', 'Orange', 'Orange', 'Orange', 'Orange', 'Orange', 'Orange', 'Orange', 'Orange', 'Orange', 'Orange', 'Orange', 'Orange', 'Orange', 'Placer', 'Placer', 'Placer', 'Placer', 'Placer', 'Placer', 'Placer', 'Placer', 'Placer', 'Placer', 'Placer', 'Placer', 'Riverside', 'Riverside', 'Riverside', 'Riverside', 'Riverside', 'Riverside', 'Riverside', 'Riverside', 'Riverside', 'Riverside', 'Riverside', 'Riverside', 'Riverside', 'Riverside', 'Riverside', 'Riverside', 'Riverside', 'Riverside', 'Riverside', 'Riverside', 'Riverside', 'Riverside', 'Riverside', 'Riverside', 'Riverside', 'Riverside', 'Riverside', 'Riverside', 'Riverside', 'Riverside', 'Riverside', 'Riverside', 'Riverside', 'Riverside', 'Riverside', 'Riverside', 'Riverside', 'Riverside', 'Riverside', 'Riverside', 'Riverside', 'Riverside', 'Riverside', 'Riverside', 'Riverside', 'Riverside', 'Riverside', 'Riverside', 'Riverside', 'Riverside', 'Riverside', 'Riverside', 'Sacramento', 'Sacramento', 'Sacramento', 'Sacramento', 'Sacramento', 'Sacramento', 'Sacramento', 'Sacramento', 'Sacramento', 'Sacramento', 'Sacramento', 'Sacramento', 'Sacramento', 'Sacramento', 'Sacramento', 'Sacramento', 'Sacramento', 'Sacramento', 'Sacramento', 'Sacramento', 'Sacramento', 'Sacramento', 'Sacramento', 'Sacramento', 'Sacramento', 'Sacramento', 'Sacramento', 'Sacramento', 'Sacramento', 'Sacramento', 'Sacramento', 'Sacramento', 'Sacramento', 'Sacramento', 'Sacramento', 'San Benito', 'San Benito', 'San Bernardino', 'San Bernardino', 'San Bernardino', 'San Bernardino', 'San Bernardino', 'San Bernardino', 'San Bernardino', 'San Bernardino', 'San Bernardino', 'San Bernardino', 'San Bernardino', 'San Bernardino', 'San Bernardino', 'San Bernardino', 'San Bernardino', 'San Bernardino', 'San Bernardino', 'San Bernardino', 'San Bernardino', 'San Bernardino', 'San Bernardino', 'San Bernardino', 'San Bernardino', 'San Bernardino', 'San Bernardino', 'San Bernardino', 'San Bernardino', 'San Bernardino', 'San Bernardino', 'San Bernardino', 'San Bernardino', 'San Bernardino', 'San Bernardino', 'San Bernardino', 'San Bernardino', 'San Bernardino', 'San Bernardino', 'San Bernardino', 'San Bernardino', 'San Bernardino', 'San Bernardino', 'San Bernardino', 'San Bernardino', 'San Bernardino', 'San Bernardino', 'San Bernardino', 'San Bernardino', 'San Bernardino', 'San Bernardino', 'San Diego', 'San Diego', 'San Diego', 'San Diego', 'San Diego', 'San Diego', 'San Diego', 'San Diego', 'San Diego', 'San Diego', 'San Diego', 'San Diego', 'San Diego', 'San Diego', 'San Diego', 'San Diego', 'San Diego', 'San Diego', 'San Diego', 'San Diego', 'San Diego', 'San Diego', 'San Diego', 'San Diego', 'San Diego', 'San Diego', 'San Diego', 'San Diego', 'San Diego', 'San Diego', 'San Diego', 'San Diego', 'San Diego', 'San Diego', 'San Diego', 'San Diego', 'San Diego', 'San Diego', 'San Diego', 'San Diego', 'San Diego', 'San Diego', 'San Diego', 'San Diego', 'San Diego', 'San Diego', 'San Diego', 'San Diego', 'San Diego', 'San Diego', 'San Diego', 'San Diego', 'San Diego', 'San Diego', 'San Diego', 'San Diego', 'San Diego', 'San Diego', 'San Diego', 'San Diego', 'San Diego', 'San Diego', 'San Diego', 'San Diego', 'San Diego', 'San Diego', 'San Diego', 'San Diego', 'San Diego', 'San Diego', 'San Diego', 'San Diego', 'San Diego', 'San Francisco', 'San Francisco', 'San Francisco', 'San Francisco', 'San Francisco', 'San Francisco', 'San Joaquin', 'San Joaquin', 'San Joaquin', 'San Joaquin', 'San Joaquin', 'San Joaquin', 'San Joaquin', 'San Joaquin', 'San Joaquin', 'San Joaquin', 'San Joaquin', 'San Joaquin', 'San Joaquin', 'San Joaquin', 'San Joaquin', 'San Joaquin', 'San Luis Obispo', 'San Luis Obispo', 'San Luis Obispo', 'San Luis Obispo', 'San Luis Obispo', 'San Luis Obispo', 'San Luis Obispo', 'San Luis Obispo', 'San Luis Obispo', 'San Luis Obispo', 'San Mateo', 'San Mateo', 'San Mateo', 'San Mateo', 'San Mateo', 'San Mateo', 'San Mateo', 'San Mateo', 'San Mateo', 'San Mateo', 'San Mateo', 'San Mateo', 'San Mateo', 'San Mateo', 'San Mateo', 'San Mateo', 'San Mateo', 'San Mateo', 'San Mateo', 'San Mateo', 'San Mateo', 'Santa Barbara', 'Santa Barbara', 'Santa Barbara', 'Santa Barbara', 'Santa Barbara', 'Santa Barbara', 'Santa Barbara', 'Santa Barbara', 'Santa Barbara', 'Santa Clara', 'Santa Clara', 'Santa Clara', 'Santa Clara', 'Santa Clara', 'Santa Clara', 'Santa Clara', 'Santa Clara', 'Santa Clara', 'Santa Clara', 'Santa Clara', 'Santa Clara', 'Santa Clara', 'Santa Clara', 'Santa Clara', 'Santa Clara', 'Santa Clara', 'Santa Clara', 'Santa Clara', 'Santa Clara', 'Santa Clara', 'Santa Clara', 'Santa Clara', 'Santa Clara', 'Santa Clara', 'Santa Clara', 'Santa Clara', 'Santa Clara', 'Santa Clara', 'Santa Clara', 'Santa Clara', 'Santa Clara', 'Santa Clara', 'Santa Clara', 'Santa Clara', 'Santa Clara', 'Santa Clara', 'Santa Clara', 'Santa Clara', 'Santa Cruz', 'Santa Cruz', 'Santa Cruz', 'Santa Cruz', 'Santa Cruz', 'Santa Cruz', 'Santa Cruz', 'Santa Cruz', 'Santa Cruz', 'Shasta', 'Shasta', 'Shasta', 'Shasta', 'Sierra', 'Siskiyou', 'Siskiyou', 'Solano', 'Solano', 'Solano', 'Solano', 'Solano', 'Solano', 'Solano', 'Sonoma', 'Sonoma', 'Sonoma', 'Sonoma', 'Sonoma', 'Sonoma', 'Sonoma', 'Sonoma', 'Sonoma', 'Sonoma', 'Sonoma', 'Sonoma', 'Sonoma', 'Sonoma', 'Sonoma', 'Stanislaus', 'Stanislaus', 'Stanislaus', 'Stanislaus', 'Stanislaus', 'Stanislaus', 'Stanislaus', 'Stanislaus', 'Stanislaus', 'Stanislaus', 'Stanislaus', 'Stanislaus', 'Sutter', 'Sutter', 'Sutter', 'Sutter', 'Tehama', 'Trinity', 'Tulare', 'Tulare', 'Tulare', 'Tulare', 'Tulare', 'Tulare', 'Tulare', 'Tulare', 'Tulare', 'Tulare', 'Tulare', 'Tulare', 'Tulare', 'Tulare', 'Tulare', 'Tulare', 'Tuolumne', 'Ventura', 'Ventura', 'Ventura', 'Ventura', 'Ventura', 'Ventura', 'Ventura', 'Ventura', 'Ventura', 'Ventura', 'Ventura', 'Ventura', 'Ventura', 'Ventura', 'Ventura', 'Ventura', 'Ventura', 'Ventura', 'Ventura', 'Ventura', 'Yolo', 'Yolo', 'Yolo', 'Yolo', 'Yolo', 'Yolo', 'Yuba', 'Yuba', 'Yuba']\n"
     ]
    }
   ],
   "source": [
    "hovercounties = listofcounties\n",
    "for i in range(56):\n",
    "    temp = [hovercounties[i]]\n",
    "    for j in range(lengths[i] - 1):\n",
    "        temp.append(hovercounties[i])\n",
    "    hovercounties[i] = temp\n",
    "    \n",
    "flat_counties = [item for sublist in hovercounties for item in sublist]\n",
    "   \n",
    "print(flat_counties)"
   ]
  },
  {
   "cell_type": "code",
   "execution_count": 21,
   "metadata": {},
   "outputs": [],
   "source": [
    "import plotly.plotly as py\n",
    "import plotly.graph_objs as go\n",
    "import plotly"
   ]
  },
  {
   "cell_type": "code",
   "execution_count": 40,
   "metadata": {},
   "outputs": [
    {
     "name": "stdout",
     "output_type": "stream",
     "text": [
      "High five! You successfully sent some data to your account on plotly. View your plot in your browser at https://plot.ly/~shrivastavaa/0 or inside your plot.ly account where it is named 'bubblechart-size'\n"
     ]
    },
    {
     "data": {
      "text/html": [
       "<iframe id=\"igraph\" scrolling=\"no\" style=\"border:none;\" seamless=\"seamless\" src=\"https://plot.ly/~shrivastavaa/0.embed\" height=\"525px\" width=\"100%\"></iframe>"
      ],
      "text/plain": [
       "<plotly.tools.PlotlyDisplay object>"
      ]
     },
     "execution_count": 40,
     "metadata": {},
     "output_type": "execute_result"
    }
   ],
   "source": [
    "plotly.tools.set_credentials_file(username='shrivastavaa', api_key='SWbR8ocKavC28hmTOMG7')\n",
    "\n",
    "trace0 = go.Scatter(\n",
    "    x=incomes,\n",
    "    y=newpercents,\n",
    "    text=highschools,\n",
    "    mode='markers',\n",
    "    marker=dict(\n",
    "        size=newnumbers,\n",
    "        color=flat_colors\n",
    "    )\n",
    ")\n",
    "\n",
    "data = [trace0]\n",
    "py.iplot(data, filename='bubblechart-size')"
   ]
  },
  {
   "cell_type": "code",
   "execution_count": 28,
   "metadata": {},
   "outputs": [],
   "source": [
    "berkcounties = berkenrolled.groupby('county')\n",
    "berkdict = {}\n",
    "\n",
    "for county in listofcounties:\n",
    "    if county in ['Lassen','Modoc' ,'Mono', 'Sierra']:\n",
    "        pass\n",
    "    else:\n",
    "        df1 = berkcounties.get_group(county)\n",
    "        df2 = counties2.get_group(county)\n",
    "        for item in df1.school:\n",
    "            if county in berkdict:\n",
    "                pass\n",
    "            else:\n",
    "                berkdict[county] = {}\n",
    "            for item2 in df2.school:\n",
    "                if item.lower().split()[:2] == item2.lower().split()[:2]:\n",
    "                    for second in df2[df2.school == item2].eligible2:\n",
    "                        berkdict[county][item] = second"
   ]
  },
  {
   "cell_type": "code",
   "execution_count": 29,
   "metadata": {},
   "outputs": [
    {
     "name": "stdout",
     "output_type": "stream",
     "text": [
      "847\n",
      "847\n",
      "847\n"
     ]
    }
   ],
   "source": [
    "berkhighschools = []\n",
    "berkpercents = []\n",
    "berktemp = []\n",
    "berktemp2 = []\n",
    "for county in berkdict:\n",
    "    for school in berkdict[county]:\n",
    "        berkhighschools.append(school)\n",
    "        berkpercents.append(berkdict[county][school])\n",
    "        berk1 = berkenrolled[berkenrolled.school == school]\n",
    "        berk2 = berk1[berk1.county == county]\n",
    "        berktemp.append(berk2.number)\n",
    "        berktemp2.append(berk2.city)\n",
    "        \n",
    "print(len(berkhighschools))\n",
    "print(len(berkpercents))\n",
    "print(len(berktemp))"
   ]
  },
  {
   "cell_type": "code",
   "execution_count": 30,
   "metadata": {},
   "outputs": [
    {
     "name": "stdout",
     "output_type": "stream",
     "text": [
      "['Alameda, CA', 'Albany, CA', 'Oakland, CA', 'Pleasanton, CA', 'Fremont, CA', 'Oakland, CA', 'Oakland, CA', 'San Lorenzo, CA', 'Berkeley, CA', 'Oakland, CA', 'Castro Valley, CA', 'Dublin, CA', 'Emeryville, CA', 'Pleasanton, CA', 'Oakland, CA', 'Livermore, CA', 'Hayward, CA', 'Fremont, CA', 'Union City, CA', 'San Lorenzo, CA', 'Hayward, CA', 'Oakland, CA', 'Livermore, CA', 'Livermore, CA', 'Oakland, CA', 'Oakland, CA', 'Oakland, CA', 'Fremont, CA', 'Newark, CA', 'Oakland, CA', 'Oakland, CA', 'Oakland, CA', 'Oakland, CA', 'Piedmont, CA', 'Berkeley, CA', 'San Leandro, CA', 'San Lorenzo, CA', 'Hayward, CA', 'Oakland, CA', 'Hayward, CA', 'Fremont, CA', 'Sutter Creek, CA', 'Gridley, CA', 'Chico, CA', 'Oroville, CA', 'Chico, CA', 'Altaville, CA', 'Colusa, CA', 'Lafayette, CA', 'Antioch, CA', 'San Ramon, CA', 'Moraga, CA', 'Concord, CA', 'Pleasant Hill, CA', 'Concord, CA', 'Richmond, CA', 'Antioch, CA', 'San Ramon, CA', 'El Cerrito, CA', 'Oakley, CA', 'Hercules, CA', 'Brentwood, CA', 'Crockett, CA', 'Walnut Creek, CA', 'Richmond, CA', 'Brentwood, CA', 'San Pablo, CA', 'Orinda, CA', 'Danville, CA', 'Walnut Creek, CA', 'Pinole, CA', 'Richmond, CA', 'Danville, CA', 'Concord, CA', 'Crescent City, CA', 'Placerville, CA', 'El Dorado Hills, CA', 'Shingle Springs, CA', 'South Lake Tahoe, CA', 'El Dorado, CA', 'Fresno, CA', 'Caruthers, CA', 'Fresno, CA', 'Clovis, CA', 'Clovis, CA', 'Fresno, CA', 'Fresno, CA', 'Coalinga, CA', 'Fresno, CA', 'Firebaugh, CA', 'Fowler, CA', 'Fresno, CA', 'Fresno, CA', 'Kerman, CA', 'Kingsburg, CA', 'Fresno, CA', 'Mendota, CA', 'Parlier, CA', 'Reedley, CA', 'Sanger, CA', 'Selma, CA', 'Fresno, CA', 'Tranquillity, CA', 'Fresno, CA', 'Orland, CA', 'Arcata, CA', 'Eureka, CA', 'Fortuna, CA', 'Mckinleyville, CA', 'Calexico, CA', 'El Centro, CA', 'Imperial, CA', 'El Centro, CA', 'Bishop, CA', 'Arvin, CA', 'Bakersfield, CA', 'Bakersfield, CA', 'Delano, CA', 'Bakersfield, CA', 'Bakersfield, CA', 'Bakersfield, CA', 'Bakersfield, CA', 'Bakersfield, CA', 'Bakersfield, CA', 'Bakersfield, CA', 'Mcfarland, CA', 'Bakersfield, CA', 'Bakersfield, CA', 'Bakersfield, CA', 'Rosamond, CA', 'Shafter, CA', 'Bakersfield, CA', 'Bakersfield, CA', 'Tehachapi, CA', 'Bakersfield, CA', 'Avenal, CA', 'Corcoran, CA', 'Hanford, CA', 'Hanford, CA', 'Lemoore, CA', 'Hanford, CA', 'Lakeport, CA', 'Lower Lake, CA', 'Middletown, CA', 'Los Angeles, CA', 'Carson, CA', 'San Fernando, CA', 'Santa Clarita, CA', 'Agoura Hills, CA', 'Los Angeles, CA', 'Valencia, CA', 'Los Angeles, CA', 'Alhambra, CA', 'Huntington Park, CA', 'Los Angeles, CA', 'Los Angeles, CA', 'Los Angeles, CA', 'Los Angeles, CA', 'Los Angeles, CA', 'Los Angeles, CA', 'Los Angeles, CA', 'Inglewood, CA', 'Los Angeles, CA', 'Inglewood, CA', 'Los Angeles, CA', 'Los Angeles, CA', 'Venice, CA', 'Los Angeles, CA', 'Lancaster, CA', 'Los Angeles, CA', 'Montebello, CA', 'Arcadia, CA', 'Arleta, CA', 'El Monte, CA', 'Lakewood, CA', 'Azusa, CA', 'Baldwin Park, CA', 'Bell Gardens, CA', 'Bellflower, CA', 'Beverly Hills, CA', 'Lake Balboa, CA', 'La Verne, CA', 'Los Angeles, CA', 'Calabasas, CA', 'Whittier, CA', 'Los Angeles, CA', 'Los Angeles, CA', 'Canoga Park, CA', 'Canyon Country, CA', 'Compton, CA', 'Los Angeles, CA', 'Cerritos, CA', 'Covina, CA', 'Claremont, CA', 'Covina, CA', 'La Crescenta, CA', 'Culver City, CA', 'Hawthorne, CA', 'Hawthorne, CA', 'Hawthorne, CA', 'Van Nuys, CA', 'Diamond Bar, CA', 'Pomona, CA', 'Sylmar, CA', 'Downey, CA', 'Duarte, CA', 'Los Angeles, CA', 'Lancaster, CA', 'West Covina, CA', 'Woodland Hills, CA', 'El Monte, CA', 'Pico Rivera, CA', 'El Segundo, CA', 'Lawndale, CA', 'San Gabriel, CA', 'Pomona, CA', 'Pomona, CA', 'Los Angeles, CA', 'Covina, CA', 'Glendale, CA', 'Glendora, CA', 'Santa Clarita, CA', 'Granada Hills, CA', 'Los Angeles, CA', 'Wilmington, CA', 'Hawthorne, CA', 'Hawthorne, CA', 'Hollywood, CA', 'Glendale, CA', 'Van Nuys, CA', 'Palmdale, CA', 'Harbor City, CA', 'Huntington Park, CA', 'Huntington Park, CA', 'Inglewood, CA', 'Pomona, CA', 'North Hills, CA', 'Pasadena, CA', 'Los Angeles, CA', 'Pasadena, CA', 'La Canada, CA', 'La Mirada, CA', 'La Puente, CA', 'Whittier, CA', 'Lakewood, CA', 'Lancaster, CA', 'Lawndale, CA', 'Lawndale, CA', 'Littlerock, CA', 'Hacienda Heights, CA', 'Los Angeles, CA', 'Los Angeles, CA', 'Los Angeles, CA', 'Los Angeles, CA', 'Los Angeles, CA', 'Los Angeles, CA', 'Lynwood, CA', 'Los Angeles, CA', 'Lynwood, CA', 'Alhambra, CA', 'Los Angeles, CA', 'Lakewood, CA', 'Maywood, CA', 'Los Angeles, CA', 'Manhattan Beach, CA', 'Monrovia, CA', 'Montebello, CA', 'Inglewood, CA', 'El Monte, CA', 'La Puente, CA', 'Torrance, CA', 'North Hollywood, CA', 'Northridge, CA', 'Covina, CA', 'Norwalk, CA', 'Los Angeles, CA', 'Pacific Palisade, CA', 'Palmdale, CA', 'Palos Verdes Estate, CA', 'Rolling Hills Estat, CA', 'Panorama City, CA', 'Paramount, CA', 'Pasadena, CA', 'Wilmington, CA', 'Whittier, CA', 'Pomona, CA', 'San Pedro, CA', 'Los Angeles, CA', 'San Fernando, CA', 'Quartz Hill, CA', 'Redondo Beach, CA', 'Rosemead, CA', 'San Dimas, CA', 'San Fernando, CA', 'San Gabriel, CA', 'San Marino, CA', 'San Pedro, CA', 'Santa Fe Springs, CA', 'Santa Monica, CA', 'Los Angeles, CA', 'Saugus, CA', 'Montebello, CA', 'Baldwin Park, CA', 'San Fernando, CA', 'South Gate, CA', 'South El Monte, CA', 'South Gate, CA', 'Torrance, CA', 'West Covina, CA', 'South Pasadena, CA', 'Hollywood, CA', 'Sun Valley, CA', 'Sun Valley, CA', 'Los Angeles, CA', 'Los Angeles, CA', 'Temple City, CA', 'Los Angeles, CA', 'Los Angeles, CA', 'Torrance, CA', 'Los Angeles, CA', 'Valencia, CA', 'Granada Hills, CA', 'Panorama City, CA', 'Van Nuys, CA', 'Tujunga, CA', 'Los Angeles, CA', 'Los Angeles, CA', 'Walnut, CA', 'Downey, CA', 'Los Angeles, CA', 'West Covina, CA', 'Torrance, CA', 'Valencia, CA', 'Whittier, CA', 'Long Beach, CA', 'Los Angeles, CA', 'Chowchilla, CA', 'Madera, CA', 'Madera, CA', 'Madera, CA', 'Oakhurst, CA', 'Novato, CA', 'Larkspur, CA', 'Novato, CA', 'San Rafael, CA', 'San Anselmo, CA', 'Mill Valley, CA', 'San Rafael, CA', 'Mariposa, CA', 'Boonville, CA', 'Fort Bragg, CA', 'Mendocino, CA', 'Ukiah, CA', 'Ukiah, CA', 'Willits, CA', 'Atwater, CA', 'Atwater, CA', 'Delhi, CA', 'Merced, CA', 'Merced, CA', 'Gustine, CA', 'Le Grand, CA', 'Livingston, CA', 'Los Banos, CA', 'Merced, CA', 'Los Banos, CA', 'Salinas, CA', 'Carmel, CA', 'Salinas, CA', 'Gonzales, CA', 'Greenfield, CA', 'King City, CA', 'Marina, CA', 'Monterey, CA', 'Castroville, CA', 'Salinas, CA', 'Pacific Grove, CA', 'Salinas, CA', 'Seaside, CA', 'Soledad, CA', 'American Canyon, CA', 'Napa, CA', 'Saint Helena, CA', 'Napa, CA', 'Grass Valley, CA', 'Grass Valley, CA', 'Aliso Viejo, CA', 'Anaheim, CA', 'Garden Grove, CA', 'Buena Park, CA', 'Anaheim, CA', 'Mission Viejo, CA', 'Santa Ana, CA', 'Newport Beach, CA', 'Costa Mesa, CA', 'Cypress, CA', 'Dana Point, CA', 'Huntington Beach, CA', 'Placentia, CA', 'Orange, CA', 'Lake Forest, CA', 'Anaheim, CA', 'Costa Mesa, CA', 'Santa Ana, CA', 'Fountain Valley, CA', 'Fullerton, CA', 'Garden Grove, CA', 'Huntington Beach, CA', 'Irvine, CA', 'Anaheim, CA', 'La Habra, CA', 'Westminster, CA', 'Laguna Beach, CA', 'Laguna Hills, CA', 'Anaheim, CA', 'Los Alamitos, CA', 'Fountain Valley, CA', 'Anaheim, CA', 'Huntington Beach, CA', 'Mission Viejo, CA', 'Newport Beach, CA', 'Irvine, CA', 'Santa Ana, CA', 'Huntington Beach, CA', 'Santa Ana, CA', 'Orange, CA', 'Cypress, CA', 'Garden Grove, CA', 'Garden Grove, CA', 'Santa Ana, CA', 'Santa Ana, CA', 'San Clemente, CA', 'San Juan Capistrano, CA', 'Santa Ana, CA', 'Garden Grove, CA', 'Anaheim, CA', 'Santa Ana, CA', 'La Habra, CA', 'Fullerton, CA', 'Rancho San Margarit, CA', 'Mission Viejo, CA', 'Fullerton, CA', 'Tustin, CA', 'Irvine, CA', 'Placentia, CA', 'Santa Ana, CA', 'Villa Park, CA', 'Anaheim, CA', 'Westminster, CA', 'Irvine, CA', 'Yorba Linda, CA', 'Colfax, CA', 'Loomis, CA', 'Granite Bay, CA', 'Lincoln, CA', 'Tahoe City, CA', 'Roseville, CA', 'Auburn, CA', 'Rocklin, CA', 'Roseville, CA', 'Truckee, CA', 'Rocklin, CA', 'Roseville, CA', 'Riverside, CA', 'Banning, CA', 'Moreno Valley, CA', 'Cathedral City, CA', 'Corona, CA', 'Temecula, CA', 'Perris, CA', 'Thermal, CA', 'Corona, CA', 'Desert Hot Springs, CA', 'Thermal, CA', 'Eastvale, CA', 'Wildomar, CA', 'Temecula, CA', 'Hemet, CA', 'Menifee, CA', 'Riverside, CA', 'Indio, CA', 'Mira Loma, CA', 'La Quinta, CA', 'Riverside, CA', 'Lake Elsinore, CA', 'Riverside, CA', 'Moreno Valley, CA', 'Murrieta, CA', 'Murrieta, CA', 'Norco, CA', 'Riverside, CA', 'Nuevo, CA', 'Palm Desert, CA', 'Palm Springs, CA', 'Menifee, CA', 'Riverside, CA', 'Perris, CA', 'Riverside, CA', 'Rancho Mirage, CA', 'Moreno Valley, CA', 'Jurupa Valley, CA', 'San Jacinto, CA', 'San Jacinto, CA', 'Corona, CA', 'Indio, CA', 'Hemet, CA', 'Temecula, CA', 'Lake Elsinore, CA', 'Moreno Valley, CA', 'Moreno Valley, CA', 'Murrieta, CA', 'Hemet, CA', 'Fair Oaks, CA', 'Orangevale, CA', 'Antelope, CA', 'Rancho Cordova, CA', 'Elk Grove, CA', 'Fair Oaks, CA', 'Sacramento, CA', 'Elk Grove, CA', 'Sacramento, CA', 'Folsom, CA', 'Sacramento, CA', 'Elk Grove, CA', 'North Highlands, CA', 'Galt, CA', 'Sacramento, CA', 'North Highlands, CA', 'Sacramento, CA', 'Elk Grove, CA', 'Galt, CA', 'Sacramento, CA', 'Citrus Heights, CA', 'Sacramento, CA', 'Elk Grove, CA', 'Sacramento, CA', 'Sacramento, CA', 'Rancho Cordova, CA', 'Elk Grove, CA', 'Sacramento, CA', 'Rio Linda, CA', 'Sacramento, CA', 'Citrus Heights, CA', 'Sacramento, CA', 'Sacramento, CA', 'Folsom, CA', 'Sacramento, CA', 'Hollister, CA', 'Adelanto, CA', 'Alta Loma, CA', 'Apple Valley, CA', 'San Bernardino, CA', 'Barstow, CA', 'Big Bear Lake, CA', 'Bloomington, CA', 'San Bernardino, CA', 'Ontario, CA', 'Chino, CA', 'Chino Hills, CA', 'Redlands, CA', 'Victorville, CA', 'Ontario, CA', 'Colton, CA', 'Chino, CA', 'Etiwanda, CA', 'Fontana, CA', 'Grand Terrace, CA', 'Apple Valley, CA', 'Hesperia, CA', 'San Bernardino, CA', 'Fontana, CA', 'Rancho Cucamonga, CA', 'Montclair, CA', 'Oak Hills, CA', 'Ontario, CA', 'San Bernardino, CA', 'Rancho Cucamonga, CA', 'Redlands, CA', 'Rialto, CA', 'Lake Arrowhead, CA', 'San Bernardino, CA', 'San Bernardino, CA', 'Phelan, CA', 'Victorville, CA', 'Hesperia, CA', 'Fontana, CA', 'Twentynine Palms, CA', 'Victorville, CA', 'Upland, CA', 'Victorville, CA', 'Rialto, CA', 'Chula Vista, CA', 'San Diego, CA', 'Carlsbad, CA', 'Chula Vista, CA', 'Chula Vista, CA', 'Chula Vista, CA', 'San Diego, CA', 'Escondido, CA', 'Coronado, CA', 'San Diego, CA', 'Escondido, CA', 'San Diego, CA', 'San Diego, CA', 'Chula Vista, CA', 'El Cajon, CA', 'Oceanside, CA', 'Lakeside, CA', 'Escondido, CA', 'Escondido, CA', 'El Cajon, CA', 'La Mesa, CA', 'San Diego, CA', 'La Mesa, CA', 'Chula Vista, CA', 'San Diego, CA', 'San Diego, CA', 'San Diego, CA', 'San Marcos, CA', 'San Diego, CA', 'San Diego, CA', 'Carlsbad, CA', 'La Jolla, CA', 'San Diego, CA', 'Imperial Beach, CA', 'San Diego, CA', 'San Diego, CA', 'San Marcos, CA', 'Spring Valley, CA', 'Spring Valley, CA', 'Oceanside, CA', 'Chula Vista, CA', 'Escondido, CA', 'Chula Vista, CA', 'San Diego, CA', 'Poway, CA', 'Ramona, CA', 'San Diego, CA', 'Vista, CA', 'Carlsbad, CA', 'San Diego, CA', 'San Diego, CA', 'San Diego, CA', 'San Diego, CA', 'San Diego, CA', 'Encinitas, CA', 'San Marcos, CA', 'Escondido, CA', 'San Diego, CA', 'Santee, CA', 'San Diego, CA', 'San Diego, CA', 'Spring Valley, CA', 'San Diego, CA', 'San Diego, CA', 'El Cajon, CA', 'Valley Center, CA', 'Vista, CA', 'Santee, CA', 'San Diego, CA', 'San Francisco, CA', 'San Francisco, CA', 'San Francisco, CA', 'San Francisco, CA', 'San Francisco, CA', 'San Francisco, CA', 'Stockton, CA', 'Stockton, CA', 'Manteca, CA', 'Escalon, CA', 'Stockton, CA', 'Lathrop, CA', 'Stockton, CA', 'Linden, CA', 'Lodi, CA', 'Manteca, CA', 'Stockton, CA', 'Mountain House, CA', 'Ripon, CA', 'Manteca, CA', 'Lodi, CA', 'Stockton, CA', 'Arroyo Grande, CA', 'Atascadero, CA', 'Morro Bay, CA', 'Nipomo, CA', 'Paso Robles, CA', 'San Luis Obispo, CA', 'Templeton, CA', 'San Mateo, CA', 'Burlingame, CA', 'San Bruno, CA', 'Belmont, CA', 'East Palo Alto, CA', 'East Palo Alto, CA', 'South San Francisco, CA', 'Redwood City, CA', 'Half Moon Bay, CA', 'San Mateo, CA', 'Daly City, CA', 'Millbrae, CA', 'San Mateo, CA', 'Redwood City, CA', 'South San Francisco, CA', 'Redwood City, CA', 'Daly City, CA', 'Pacifica, CA', 'Daly City, CA', 'Woodside, CA', 'Lompoc, CA', 'Goleta, CA', 'Santa Maria, CA', 'Lompoc, CA', 'Santa Maria, CA', 'Santa Barbara, CA', 'Santa Barbara, CA', 'Santa Maria, CA', 'Santa Ynez, CA', 'San Jose, CA', 'Morgan Hill, CA', 'San Jose, CA', 'Gilroy, CA', 'Cupertino, CA', 'San Jose, CA', 'San Jose, CA', 'Sunnyvale, CA', 'Gilroy, CA', 'Cupertino, CA', 'San Jose, CA', 'San Jose, CA', 'San Jose, CA', 'San Jose, CA', 'San Jose, CA', 'San Jose, CA', 'Morgan Hill, CA', 'Los Altos, CA', 'Los Gatos, CA', 'San Jose, CA', 'Milpitas, CA', 'Cupertino, CA', 'Mountain View, CA', 'San Jose, CA', 'Palo Alto, CA', 'San Jose, CA', 'San Jose, CA', 'Saratoga, CA', 'San Jose, CA', 'Santa Clara, CA', 'San Jose, CA', 'Saratoga, CA', 'San Jose, CA', 'San Jose, CA', 'San Jose, CA', 'Campbell, CA', 'San Jose, CA', 'San Jose, CA', 'Aptos, CA', 'Santa Cruz, CA', 'Santa Cruz, CA', 'Watsonville, CA', 'Felton, CA', 'Santa Cruz, CA', 'Scotts Valley, CA', 'Soquel, CA', 'Watsonville, CA', 'Redding, CA', 'Palo Cedro, CA', 'Redding, CA', 'Cottonwood, CA', 'Fairfield, CA', 'Fairfield, CA', 'Benicia, CA', 'Dixon, CA', 'Fairfield, CA', 'Vacaville, CA', 'Fairfield, CA', 'Sebastopol, CA', 'Petaluma, CA', 'Forestville, CA', 'Santa Rosa, CA', 'Healdsburg, CA', 'Santa Rosa, CA', 'Santa Rosa, CA', 'Petaluma, CA', 'Santa Rosa, CA', 'Rohnert Park, CA', 'Santa Rosa, CA', 'Sonoma, CA', 'Windsor, CA', 'Ceres, CA', 'Ceres, CA', 'Hughson, CA', 'Modesto, CA', 'Oakdale, CA', 'Newman, CA', 'Patterson, CA', 'Riverbank, CA', 'Modesto, CA', 'Turlock, CA', 'Waterford, CA', 'Live Oak, CA', 'Yuba City, CA', 'Yuba City, CA', 'Red Bluff, CA', 'Weaverville, CA', 'Dinuba, CA', 'Visalia, CA', 'Exeter, CA', 'Farmersville, CA', 'Visalia, CA', 'Porterville, CA', 'Porterville, CA', 'Tulare, CA', 'Porterville, CA', 'Orosi, CA', 'Porterville, CA', 'Visalia, CA', 'Tulare, CA', 'Tulare, CA', 'Woodlake, CA', 'Sonora, CA', 'Camarillo, CA', 'Ventura, CA', 'Oxnard, CA', 'Ventura, CA', 'Oxnard, CA', 'Moorpark, CA', 'Newbury Park, CA', 'Ojai, CA', 'Oak Park, CA', 'Oxnard, CA', 'Oxnard, CA', 'Oxnard, CA', 'Simi Valley, CA', 'Santa Paula, CA', 'Simi Valley, CA', 'Simi Valley, CA', 'Thousand Oaks, CA', 'Ventura, CA', 'Westlake Village, CA', 'Davis, CA', 'Davis, CA', 'Woodland, CA', 'West Sacramento, CA', 'Winters, CA', 'Olivehurst, CA', 'Marysville, CA', 'Marysville, CA']\n"
     ]
    }
   ],
   "source": [
    "berkcities = []\n",
    "for item in berktemp2:\n",
    "    for second in item:\n",
    "        second = second + ', CA'\n",
    "        berkcities.append(second)\n",
    "print(berkcities)"
   ]
  },
  {
   "cell_type": "code",
   "execution_count": 35,
   "metadata": {},
   "outputs": [
    {
     "name": "stdout",
     "output_type": "stream",
     "text": [
      "[13.0, 14.0, 0, 33.0, 22.0, 6.0, 0, 4.0, 22.0, 0, 11.0, 22.0, 0, 12.0, 0, 4.0, 6.0, 19.0, 13.0, 0, 9.0, 4.0, 3.0, 0, 0, 3.0, 0, 47.0, 3.0, 4.0, 4.0, 13.0, 4.0, 6.0, 0, 4.0, 4.0, 0, 8.0, 3.0, 10.0, 0, 0, 0, 0, 3.0, 0, 0, 10.0, 0, 14.0, 21.0, 3.0, 0, 0, 5.0, 0, 53.0, 8.0, 6.0, 4.0, 9.0, 0, 5.0, 5.0, 0, 4.0, 12.0, 20.0, 5.0, 9.0, 10.0, 11.0, 0, 0, 0, 10.0, 3.0, 4.0, 0, 3.0, 0, 0, 3.0, 0, 7.0, 3.0, 0, 7.0, 0, 0, 0, 0, 0, 0, 0, 3.0, 0, 0, 0, 0, 4.0, 0, 5.0, 0, 0, 0, 0, 0, 0, 0, 0, 0, 0, 0, 3.0, 3.0, 0, 0, 0, 0, 0, 0, 0, 0, 0, 4.0, 0, 3.0, 0, 0, 0, 5.0, 0, 0, 0, 0, 0, 0, 0, 0, 0, 0, 0, 0, 0, 0, 4.0, 11.0, 0, 0, 8.0, 4.0, 0, 0, 0, 0, 0, 0, 0, 0, 0, 0, 3.0, 0, 0, 0, 0, 0, 0, 0, 23.0, 0, 3.0, 0, 0, 0, 3.0, 0, 5.0, 3.0, 0, 0, 15.0, 0, 0, 0, 0, 5.0, 0, 0, 6.0, 3.0, 9.0, 0, 14.0, 4.0, 0, 0, 3.0, 3.0, 28.0, 0, 3.0, 0, 0, 3.0, 0, 0, 3.0, 0, 0, 4.0, 3.0, 7.0, 0, 0, 0, 0, 0, 0, 0, 15.0, 0, 3.0, 0, 0, 0, 0, 0, 3.0, 0, 3.0, 0, 0, 0, 3.0, 4.0, 7.0, 0, 17.0, 0, 0, 3.0, 4.0, 0, 0, 4.0, 0, 0, 0, 0, 0, 0, 0, 0, 0, 3.0, 0, 4.0, 0, 0, 0, 0, 32.0, 3.0, 0, 0, 0, 6.0, 0, 7.0, 0, 0, 0, 0, 19.0, 0, 12.0, 20.0, 0, 0, 6.0, 0, 4.0, 0, 0, 0, 0, 5.0, 5.0, 5.0, 4.0, 3.0, 8.0, 6.0, 4.0, 0, 22.0, 0, 3.0, 0, 0, 3.0, 5.0, 0, 8.0, 9.0, 6.0, 17.0, 0, 0, 0, 0, 0, 16.0, 0, 0, 5.0, 0, 7.0, 0, 0, 8.0, 0, 0, 0, 17.0, 0, 0, 5.0, 10.0, 12.0, 3.0, 6.0, 4.0, 0, 0, 0, 0, 0, 3.0, 16.0, 5.0, 0, 5.0, 9.0, 3.0, 0, 0, 0, 0, 0, 0, 0, 0, 0, 0, 0, 0, 0, 0, 0, 0, 0, 0, 0, 3.0, 0, 0, 0, 0, 3.0, 0, 0, 4.0, 0, 5.0, 0, 6.0, 0, 0, 0, 3.0, 0, 3.0, 16.0, 0, 0, 7.0, 9.0, 4.0, 0, 16.0, 0, 0, 4.0, 3.0, 0, 0, 0, 0, 0, 7.0, 3.0, 0, 0, 8.0, 12.0, 0, 0, 0, 4.0, 0, 0, 6.0, 0, 0, 6.0, 5.0, 7.0, 21.0, 0, 0, 8.0, 0, 16.0, 0, 0, 0, 0, 5.0, 0, 0, 5.0, 0, 3.0, 0, 4.0, 11.0, 0, 20.0, 0, 24.0, 11.0, 0, 8.0, 4.0, 0, 13.0, 4.0, 0, 0, 18.0, 0, 5.0, 0, 0, 5.0, 0, 0, 0, 0, 3.0, 0, 3.0, 0, 4.0, 3.0, 0, 3.0, 0, 0, 0, 0, 0, 12.0, 0, 0, 0, 0, 0, 0, 0, 0, 0, 0, 0, 4.0, 0, 0, 0, 3.0, 0, 0, 0, 0, 0, 0, 0, 0, 0, 0, 3.0, 0, 0, 3.0, 3.0, 0, 0, 0, 0, 0, 0, 0, 0, 7.0, 0, 0, 4.0, 4.0, 0, 0, 7.0, 0, 0, 0, 0, 0, 0, 0, 0, 0, 20.0, 0, 0, 0, 0, 5.0, 6.0, 0, 0, 0, 5.0, 3.0, 8.0, 3.0, 0, 0, 5.0, 0, 0, 0, 0, 0, 0, 0, 0, 7.0, 3.0, 0, 3.0, 0, 0, 3.0, 0, 0, 0, 0, 0, 0, 7.0, 3.0, 0, 0, 0, 6.0, 3.0, 0, 0, 3.0, 0, 0, 0, 0, 0, 0, 0, 0, 0, 0, 4.0, 31.0, 13.0, 0, 0, 3.0, 0, 0, 3.0, 0, 0, 18.0, 0, 4.0, 0, 0, 0, 0, 5.0, 0, 0, 0, 0, 0, 4.0, 0, 4.0, 0, 0, 0, 13.0, 25.0, 0, 0, 0, 3.0, 0, 0, 0, 0, 0, 0, 3.0, 10.0, 11.0, 0, 7.0, 0, 3.0, 0, 5.0, 0, 0, 0, 12.0, 4.0, 0, 0, 0, 11.0, 4.0, 3.0, 35.0, 0, 0, 0, 0, 0, 28.0, 4.0, 0, 3.0, 0, 0, 32.0, 0, 0, 0, 0, 0, 0, 3.0, 0, 4.0, 0, 3.0, 0, 0, 0, 4.0, 0, 5.0, 0, 0, 0, 0, 7.0, 4.0, 10.0, 8.0, 3.0, 26.0, 0, 0, 3.0, 0, 7.0, 7.0, 0, 8.0, 6.0, 4.0, 0, 3.0, 5.0, 0, 0, 6.0, 0, 10.0, 0, 0, 3.0, 15.0, 11.0, 0, 0, 4.0, 4.0, 3.0, 0, 28.0, 3.0, 15.0, 5.0, 0, 19.0, 4.0, 0, 0, 3.0, 7.0, 17.0, 0, 19.0, 17.0, 34.0, 12.0, 41.0, 12.0, 3.0, 15.0, 8.0, 0, 3.0, 4.0, 3.0, 6.0, 16.0, 0, 4.0, 3.0, 3.0, 0, 13.0, 6.0, 0, 4.0, 3.0, 0, 0, 0, 3.0, 3.0, 0, 0, 0, 3.0, 3.0, 0, 3.0, 0, 0, 4.0, 3.0, 4.0, 6.0, 0, 0, 0, 3.0, 4.0, 4.0, 0, 0, 4.0, 0, 3.0, 3.0, 0, 0, 6.0, 0, 0, 4.0, 0, 0, 4.0, 0, 0, 0, 0, 0, 0, 0, 0, 0, 0, 0, 3.0, 0, 0, 0, 0, 0, 3.0, 3.0, 0, 0, 0, 5.0, 0, 0, 3.0, 0, 0, 13.0, 0, 11.0, 6.0, 0, 0, 0, 0, 4.0, 0, 4.0, 3.0, 20.0, 0, 19.0, 0, 3.0, 0, 0, 0, 0]\n"
     ]
    }
   ],
   "source": [
    "berknumbers = []\n",
    "for item in berktemp:\n",
    "    for second in item:\n",
    "        berknumbers.append(second)\n",
    "        \n",
    "newberknumbers = [0 if math.isnan(i) else i for i in berknumbers] \n",
    "        \n",
    "print(newberknumbers)"
   ]
  },
  {
   "cell_type": "code",
   "execution_count": 32,
   "metadata": {},
   "outputs": [],
   "source": [
    "newberkpercents = []\n",
    "for item in berkpercents:\n",
    "    item2 = item.replace('%', '')\n",
    "    item2 = float(item2)\n",
    "    newberkpercents.append(item2)"
   ]
  },
  {
   "cell_type": "code",
   "execution_count": 33,
   "metadata": {},
   "outputs": [
    {
     "name": "stdout",
     "output_type": "stream",
     "text": [
      "848\n",
      "847\n",
      "847\n"
     ]
    }
   ],
   "source": [
    "berkincomes = []\n",
    "for city in berkcities:\n",
    "    newdf = incomedf[incomedf.city == city]\n",
    "    if newdf.empty:\n",
    "        berkincomes.append(np.nan)\n",
    "    else:\n",
    "        item = newdf.income\n",
    "        for second in item:\n",
    "            berkincomes.append(float(second))\n",
    "berkincomes = berkincomes[:847]    \n",
    "print(len(berkcities))\n",
    "print(len(berkincomes))\n",
    "print(len(newberkpercents))"
   ]
  },
  {
   "cell_type": "code",
   "execution_count": 36,
   "metadata": {},
   "outputs": [
    {
     "data": {
      "text/html": [
       "<iframe id=\"igraph\" scrolling=\"no\" style=\"border:none;\" seamless=\"seamless\" src=\"https://plot.ly/~shrivastavaa/2.embed\" height=\"525px\" width=\"100%\"></iframe>"
      ],
      "text/plain": [
       "<plotly.tools.PlotlyDisplay object>"
      ]
     },
     "execution_count": 36,
     "metadata": {},
     "output_type": "execute_result"
    }
   ],
   "source": [
    "trace1 = go.Scatter(\n",
    "    x=berkincomes,\n",
    "    y=newberkpercents,\n",
    "    text=berkhighschools,\n",
    "    mode='markers',\n",
    "    marker=dict(\n",
    "        size=newberknumbers,\n",
    "        color=flat_colors\n",
    "    )\n",
    ")\n",
    "\n",
    "data = [trace1]\n",
    "py.iplot(data, filename='bubblechart-berkeley')"
   ]
  },
  {
   "cell_type": "code",
   "execution_count": null,
   "metadata": {},
   "outputs": [],
   "source": []
  }
 ],
 "metadata": {
  "kernelspec": {
   "display_name": "Python 3",
   "language": "python",
   "name": "python3"
  },
  "language_info": {
   "codemirror_mode": {
    "name": "ipython",
    "version": 3
   },
   "file_extension": ".py",
   "mimetype": "text/x-python",
   "name": "python",
   "nbconvert_exporter": "python",
   "pygments_lexer": "ipython3",
   "version": "3.6.5"
  }
 },
 "nbformat": 4,
 "nbformat_minor": 2
}
